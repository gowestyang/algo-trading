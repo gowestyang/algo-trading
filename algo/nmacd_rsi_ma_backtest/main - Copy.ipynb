{
 "cells": [
  {
   "cell_type": "code",
   "execution_count": 1,
   "metadata": {},
   "outputs": [
    {
     "name": "stdout",
     "output_type": "stream",
     "text": [
      "\n",
      "***************: The token is incorrect, you will not be able to use advanced features, such as: 'logger', 'configer', 'keyboard control' and more... \n",
      "\n",
      "You can purchase Bakctrader_Bokeh on website: https://aui.photos/backtrader-bokeh/purchase/ \n",
      "\n"
     ]
    },
    {
     "data": {
      "text/html": [
       "<div class=\"bk-root\">\n",
       "        <a href=\"https://bokeh.org\" target=\"_blank\" class=\"bk-logo bk-logo-small bk-logo-notebook\"></a>\n",
       "        <span id=\"1002\">Loading BokehJS ...</span>\n",
       "    </div>\n"
      ]
     },
     "metadata": {},
     "output_type": "display_data"
    },
    {
     "data": {
      "application/javascript": "(function(root) {\n  function now() {\n    return new Date();\n  }\n\n  const force = true;\n\n  if (typeof root._bokeh_onload_callbacks === \"undefined\" || force === true) {\n    root._bokeh_onload_callbacks = [];\n    root._bokeh_is_loading = undefined;\n  }\n\nconst JS_MIME_TYPE = 'application/javascript';\n  const HTML_MIME_TYPE = 'text/html';\n  const EXEC_MIME_TYPE = 'application/vnd.bokehjs_exec.v0+json';\n  const CLASS_NAME = 'output_bokeh rendered_html';\n\n  /**\n   * Render data to the DOM node\n   */\n  function render(props, node) {\n    const script = document.createElement(\"script\");\n    node.appendChild(script);\n  }\n\n  /**\n   * Handle when an output is cleared or removed\n   */\n  function handleClearOutput(event, handle) {\n    const cell = handle.cell;\n\n    const id = cell.output_area._bokeh_element_id;\n    const server_id = cell.output_area._bokeh_server_id;\n    // Clean up Bokeh references\n    if (id != null && id in Bokeh.index) {\n      Bokeh.index[id].model.document.clear();\n      delete Bokeh.index[id];\n    }\n\n    if (server_id !== undefined) {\n      // Clean up Bokeh references\n      const cmd_clean = \"from bokeh.io.state import curstate; print(curstate().uuid_to_server['\" + server_id + \"'].get_sessions()[0].document.roots[0]._id)\";\n      cell.notebook.kernel.execute(cmd_clean, {\n        iopub: {\n          output: function(msg) {\n            const id = msg.content.text.trim();\n            if (id in Bokeh.index) {\n              Bokeh.index[id].model.document.clear();\n              delete Bokeh.index[id];\n            }\n          }\n        }\n      });\n      // Destroy server and session\n      const cmd_destroy = \"import bokeh.io.notebook as ion; ion.destroy_server('\" + server_id + \"')\";\n      cell.notebook.kernel.execute(cmd_destroy);\n    }\n  }\n\n  /**\n   * Handle when a new output is added\n   */\n  function handleAddOutput(event, handle) {\n    const output_area = handle.output_area;\n    const output = handle.output;\n\n    // limit handleAddOutput to display_data with EXEC_MIME_TYPE content only\n    if ((output.output_type != \"display_data\") || (!Object.prototype.hasOwnProperty.call(output.data, EXEC_MIME_TYPE))) {\n      return\n    }\n\n    const toinsert = output_area.element.find(\".\" + CLASS_NAME.split(' ')[0]);\n\n    if (output.metadata[EXEC_MIME_TYPE][\"id\"] !== undefined) {\n      toinsert[toinsert.length - 1].firstChild.textContent = output.data[JS_MIME_TYPE];\n      // store reference to embed id on output_area\n      output_area._bokeh_element_id = output.metadata[EXEC_MIME_TYPE][\"id\"];\n    }\n    if (output.metadata[EXEC_MIME_TYPE][\"server_id\"] !== undefined) {\n      const bk_div = document.createElement(\"div\");\n      bk_div.innerHTML = output.data[HTML_MIME_TYPE];\n      const script_attrs = bk_div.children[0].attributes;\n      for (let i = 0; i < script_attrs.length; i++) {\n        toinsert[toinsert.length - 1].firstChild.setAttribute(script_attrs[i].name, script_attrs[i].value);\n        toinsert[toinsert.length - 1].firstChild.textContent = bk_div.children[0].textContent\n      }\n      // store reference to server id on output_area\n      output_area._bokeh_server_id = output.metadata[EXEC_MIME_TYPE][\"server_id\"];\n    }\n  }\n\n  function register_renderer(events, OutputArea) {\n\n    function append_mime(data, metadata, element) {\n      // create a DOM node to render to\n      const toinsert = this.create_output_subarea(\n        metadata,\n        CLASS_NAME,\n        EXEC_MIME_TYPE\n      );\n      this.keyboard_manager.register_events(toinsert);\n      // Render to node\n      const props = {data: data, metadata: metadata[EXEC_MIME_TYPE]};\n      render(props, toinsert[toinsert.length - 1]);\n      element.append(toinsert);\n      return toinsert\n    }\n\n    /* Handle when an output is cleared or removed */\n    events.on('clear_output.CodeCell', handleClearOutput);\n    events.on('delete.Cell', handleClearOutput);\n\n    /* Handle when a new output is added */\n    events.on('output_added.OutputArea', handleAddOutput);\n\n    /**\n     * Register the mime type and append_mime function with output_area\n     */\n    OutputArea.prototype.register_mime_type(EXEC_MIME_TYPE, append_mime, {\n      /* Is output safe? */\n      safe: true,\n      /* Index of renderer in `output_area.display_order` */\n      index: 0\n    });\n  }\n\n  // register the mime type if in Jupyter Notebook environment and previously unregistered\n  if (root.Jupyter !== undefined) {\n    const events = require('base/js/events');\n    const OutputArea = require('notebook/js/outputarea').OutputArea;\n\n    if (OutputArea.prototype.mime_types().indexOf(EXEC_MIME_TYPE) == -1) {\n      register_renderer(events, OutputArea);\n    }\n  }\n  if (typeof (root._bokeh_timeout) === \"undefined\" || force === true) {\n    root._bokeh_timeout = Date.now() + 5000;\n    root._bokeh_failed_load = false;\n  }\n\n  const NB_LOAD_WARNING = {'data': {'text/html':\n     \"<div style='background-color: #fdd'>\\n\"+\n     \"<p>\\n\"+\n     \"BokehJS does not appear to have successfully loaded. If loading BokehJS from CDN, this \\n\"+\n     \"may be due to a slow or bad network connection. Possible fixes:\\n\"+\n     \"</p>\\n\"+\n     \"<ul>\\n\"+\n     \"<li>re-rerun `output_notebook()` to attempt to load from CDN again, or</li>\\n\"+\n     \"<li>use INLINE resources instead, as so:</li>\\n\"+\n     \"</ul>\\n\"+\n     \"<code>\\n\"+\n     \"from bokeh.resources import INLINE\\n\"+\n     \"output_notebook(resources=INLINE)\\n\"+\n     \"</code>\\n\"+\n     \"</div>\"}};\n\n  function display_loaded() {\n    const el = document.getElementById(\"1002\");\n    if (el != null) {\n      el.textContent = \"BokehJS is loading...\";\n    }\n    if (root.Bokeh !== undefined) {\n      if (el != null) {\n        el.textContent = \"BokehJS \" + root.Bokeh.version + \" successfully loaded.\";\n      }\n    } else if (Date.now() < root._bokeh_timeout) {\n      setTimeout(display_loaded, 100)\n    }\n  }\n\n  function run_callbacks() {\n    try {\n      root._bokeh_onload_callbacks.forEach(function(callback) {\n        if (callback != null)\n          callback();\n      });\n    } finally {\n      delete root._bokeh_onload_callbacks\n    }\n    console.debug(\"Bokeh: all callbacks have finished\");\n  }\n\n  function load_libs(css_urls, js_urls, callback) {\n    if (css_urls == null) css_urls = [];\n    if (js_urls == null) js_urls = [];\n\n    root._bokeh_onload_callbacks.push(callback);\n    if (root._bokeh_is_loading > 0) {\n      console.debug(\"Bokeh: BokehJS is being loaded, scheduling callback at\", now());\n      return null;\n    }\n    if (js_urls == null || js_urls.length === 0) {\n      run_callbacks();\n      return null;\n    }\n    console.debug(\"Bokeh: BokehJS not loaded, scheduling load and callback at\", now());\n    root._bokeh_is_loading = css_urls.length + js_urls.length;\n\n    function on_load() {\n      root._bokeh_is_loading--;\n      if (root._bokeh_is_loading === 0) {\n        console.debug(\"Bokeh: all BokehJS libraries/stylesheets loaded\");\n        run_callbacks()\n      }\n    }\n\n    function on_error(url) {\n      console.error(\"failed to load \" + url);\n    }\n\n    for (let i = 0; i < css_urls.length; i++) {\n      const url = css_urls[i];\n      const element = document.createElement(\"link\");\n      element.onload = on_load;\n      element.onerror = on_error.bind(null, url);\n      element.rel = \"stylesheet\";\n      element.type = \"text/css\";\n      element.href = url;\n      console.debug(\"Bokeh: injecting link tag for BokehJS stylesheet: \", url);\n      document.body.appendChild(element);\n    }\n\n    for (let i = 0; i < js_urls.length; i++) {\n      const url = js_urls[i];\n      const element = document.createElement('script');\n      element.onload = on_load;\n      element.onerror = on_error.bind(null, url);\n      element.async = false;\n      element.src = url;\n      console.debug(\"Bokeh: injecting script tag for BokehJS library: \", url);\n      document.head.appendChild(element);\n    }\n  };\n\n  function inject_raw_css(css) {\n    const element = document.createElement(\"style\");\n    element.appendChild(document.createTextNode(css));\n    document.body.appendChild(element);\n  }\n\n  const js_urls = [\"https://cdn.bokeh.org/bokeh/release/bokeh-2.4.3.min.js\", \"https://cdn.bokeh.org/bokeh/release/bokeh-gl-2.4.3.min.js\", \"https://cdn.bokeh.org/bokeh/release/bokeh-widgets-2.4.3.min.js\", \"https://cdn.bokeh.org/bokeh/release/bokeh-tables-2.4.3.min.js\", \"https://cdn.bokeh.org/bokeh/release/bokeh-mathjax-2.4.3.min.js\"];\n  const css_urls = [];\n\n  const inline_js = [    function(Bokeh) {\n      Bokeh.set_log_level(\"info\");\n    },\nfunction(Bokeh) {\n    }\n  ];\n\n  function run_inline_js() {\n    if (root.Bokeh !== undefined || force === true) {\n          for (let i = 0; i < inline_js.length; i++) {\n      inline_js[i].call(root, root.Bokeh);\n    }\nif (force === true) {\n        display_loaded();\n      }} else if (Date.now() < root._bokeh_timeout) {\n      setTimeout(run_inline_js, 100);\n    } else if (!root._bokeh_failed_load) {\n      console.log(\"Bokeh: BokehJS failed to load within specified timeout.\");\n      root._bokeh_failed_load = true;\n    } else if (force !== true) {\n      const cell = $(document.getElementById(\"1002\")).parents('.cell').data().cell;\n      cell.output_area.append_execute_result(NB_LOAD_WARNING)\n    }\n  }\n\n  if (root._bokeh_is_loading === 0) {\n    console.debug(\"Bokeh: BokehJS loaded, going straight to plotting\");\n    run_inline_js();\n  } else {\n    load_libs(css_urls, js_urls, function() {\n      console.debug(\"Bokeh: BokehJS plotting callback run at\", now());\n      run_inline_js();\n    });\n  }\n}(window));",
      "application/vnd.bokehjs_load.v0+json": ""
     },
     "metadata": {},
     "output_type": "display_data"
    }
   ],
   "source": [
    "import os\n",
    "import numpy as np\n",
    "import pandas as pd\n",
    "from datetime import datetime\n",
    "from src.defs import BROKER\n",
    "from src.utils import logger, load_oanda_parquet\n",
    "from src.notifications import log_order, log_trade\n",
    "from backtrader_bokeh import bt\n",
    "\n",
    "os.environ[\"BOKEH_ALLOW_WS_ORIGIN\"] = '0lj9hh483va927cadklatiu5affjj5cn3b349he4cl71d36qc4p6'\n",
    "\n",
    "logger.setLevel(10) # debug\n"
   ]
  },
  {
   "cell_type": "code",
   "execution_count": 2,
   "metadata": {},
   "outputs": [],
   "source": [
    "%load_ext autoreload\n",
    "%autoreload 2"
   ]
  },
  {
   "attachments": {},
   "cell_type": "markdown",
   "metadata": {},
   "source": [
    "### Strategy\n",
    "\n",
    "Ref: https://www.youtube.com/watch?v=fT4jb-I5zYc&t=8s\n",
    "\n",
    "Long Signal:\n",
    "1. NMACD cross over\n",
    "2. RSI cross over\n",
    "3. At the bar of RSI cross over, the close price is above SMA"
   ]
  },
  {
   "cell_type": "code",
   "execution_count": 16,
   "metadata": {},
   "outputs": [],
   "source": [
    "INSTRUMENT = \"EUR_USD\"\n",
    "DIGITS = BROKER.PRICE_DIGITS[INSTRUMENT]\n",
    "SPREAD = BROKER.SPREAD[INSTRUMENT]\n",
    "\n",
    "class MyStrategy(bt.Strategy):\n",
    "    params = (\n",
    "        ('macd_fast_period', 13),\n",
    "        ('macd_slow_period', 21),\n",
    "        ('macd_signal_period', 9), # signal / trigger\n",
    "        #('macd_normalize_period', 50),\n",
    "        ('rsi_period', 21),\n",
    "        ('rsi_ma_period', 55),\n",
    "        ('ma_period', 13),\n",
    "        ('high_low_period', 8),\n",
    "        #('atr_period', 115),\n",
    "        ('rrr', 1), # reward-risk-ratio\n",
    "    )\n",
    "\n",
    "    def __init__(self):\n",
    "\n",
    "        # indicators\n",
    "        self.sma = bt.indicators.SimpleMovingAverage(period=self.params.ma_period)\n",
    "\n",
    "        self.macd = bt.indicators.MACD(\n",
    "            period_me1=self.params.macd_fast_period,\n",
    "            period_me2=self.params.macd_slow_period,\n",
    "            period_signal=self.params.macd_signal_period\n",
    "            )\n",
    "\n",
    "        self.rsi = bt.indicators.RSI(period=self.params.rsi_period)\n",
    "        self.rsi_ma = bt.indicators.SimpleMovingAverage(self.rsi, period=self.params.rsi_ma_period)\n",
    "        self.rsi_ma.plotinfo.plotmaster = self.rsi # plot rsi_ma in the rsi chart\n",
    "        \n",
    "        #self.atr = bt.indicators.AverageTrueRange(period=self.params.atr_period)\n",
    "\n",
    "        self.recent_high = bt.indicators.Highest(period=self.params.high_low_period)\n",
    "        self.recent_low = bt.indicators.Lowest(period=self.params.high_low_period)\n",
    "\n",
    "        # signals\n",
    "        self.macd_crossover = bt.indicators.CrossOver(self.macd.macd, self.macd.signal, plot=False) # 0: no cross-over | 1: cross-up | -1 : cross-down\n",
    "        self.rsi_crossover = bt.indicators.CrossOver(self.rsi, self.rsi_ma, plot=False) # 0: no cross-over | 1: cross-up | -1 : cross-down\n",
    "        self.sig_macd_cross = 0 # 0: no signal | 1: cross above | -1: cross below\n",
    "        self.signal = 0 # 0: no signal | 1: long | -1: short\n",
    "\n",
    "        # prices\n",
    "        self.stop_loss = None\n",
    "        self.take_profit = None\n",
    "\n",
    "        # others\n",
    "        self.close_price = None\n",
    "        self.order = None\n",
    "\n",
    "    def update_signal(self):\n",
    "        if self.macd_crossover[0] != 0:\n",
    "            self.sig_macd_cross = self.macd_crossover[0]\n",
    "        \n",
    "        if self.sig_macd_cross==1:\n",
    "            if (self.rsi_crossover[0]==1) & (self.data.close[0] > self.sma[0]):\n",
    "                self.signal = 1\n",
    "            else:\n",
    "                self.signal = 0\n",
    "\n",
    "        if self.sig_macd_cross==-1:\n",
    "            if (self.rsi_crossover[0]==-1) & (self.data.close[0] < self.sma[0]):\n",
    "                self.signal = -1\n",
    "            else:\n",
    "                self.signal = 0\n",
    "\n",
    "    def next(self):\n",
    "        #### trouble shooting ####\n",
    "        #global g1\n",
    "        #g1 = self.atr\n",
    "        #self.log(self.atr[0])\n",
    "        ####\n",
    "\n",
    "        # if there is a pending order, do not send a 2nd one\n",
    "        if self.order:\n",
    "            return\n",
    "    \n",
    "        self.close_price = self.data.close[0]\n",
    "\n",
    "        # update signal\n",
    "        self.update_signal()\n",
    "\n",
    "        # apply signal if not in position\n",
    "        if not self.position:\n",
    "            if self.signal == 1:\n",
    "                self.log(f\"BUY MKT ORDER TRIGGERED.\")\n",
    "                sl = self.round(self.recent_low[0] - SPREAD)\n",
    "                sl_dist = abs(self.close_price - sl)\n",
    "                tp_dist = sl_dist * self.params.rrr\n",
    "                tp = self.round(self.close_price + tp_dist)\n",
    "\n",
    "                self.stop_loss = sl\n",
    "                self.take_profit = tp\n",
    "                self.order = self.buy_bracket(\n",
    "                    size=None,\n",
    "                    exectype=bt.Order.Market,\n",
    "                    stopprice=self.stop_loss,\n",
    "                    stopexec=bt.Order.Stop,\n",
    "                    limitprice=self.take_profit,\n",
    "                    limitexec=bt.Order.Limit,\n",
    "                )\n",
    "            if self.signal == -1:\n",
    "                self.log(f\"SELL MKT ORDER TRIGGERED.\")\n",
    "                sl = self.recent_high[0] + SPREAD\n",
    "                sl_dist = abs(self.close_price - sl)\n",
    "                tp_dist = sl_dist * self.params.rrr\n",
    "                tp = self.close_price - tp_dist\n",
    "                print(f\"sl = {sl}, close = {self.close_price}, tp = {tp}\")\n",
    "\n",
    "                self.stop_loss = sl\n",
    "                self.take_profit = tp\n",
    "                self.order = self.sell_bracket(\n",
    "                    size=None,\n",
    "                    exectype=bt.Order.Market,\n",
    "                    stopprice=self.stop_loss,\n",
    "                    stopexec=bt.Order.Stop,\n",
    "                    limitprice=self.take_profit,\n",
    "                    limitexec=bt.Order.Limit,\n",
    "                )\n",
    "\n",
    "    def notify_order(self, order: bt.order.Order) -> None:\n",
    "\n",
    "        log_order(order=order, digits=DIGITS, log_func=self.log)\n",
    "    \n",
    "        # no pending order unless partially filled\n",
    "        if order.status != order.Partial:\n",
    "            self.order = None\n",
    "\n",
    "    def notify_trade(self, trade: bt.trade.Trade) -> None:\n",
    "\n",
    "        log_trade(trade=trade, digits=DIGITS, log_func=self.log)\n",
    "\n",
    "    def start(self) -> None:\n",
    "        self.log(f\"STRATEGY START: value = {round(self.broker.getvalue(), DIGITS)}, cash = {round(self.broker.getcash(), DIGITS)}.\", with_dt=False)\n",
    "    \n",
    "    def stop(self) -> None:\n",
    "        self.log(f\"STRATEGY COMPLETE: value = {round(self.broker.getvalue(), DIGITS)}, cash = {round(self.broker.getcash(), DIGITS)}.\")\n",
    "\n",
    "    def log(self, txt: str, with_dt: bool=True) -> None:\n",
    "        if with_dt:\n",
    "            dt = self.data.datetime.datetime(0)\n",
    "            txt = f\"[{dt.strftime('%Y-%m-%d %H:%M:%S')}] {txt}\"\n",
    "        print(txt)\n",
    "    \n",
    "    def round(self, price: float) -> float:\n",
    "        return round(price, DIGITS)\n"
   ]
  },
  {
   "cell_type": "code",
   "execution_count": 17,
   "metadata": {},
   "outputs": [
    {
     "name": "stderr",
     "output_type": "stream",
     "text": [
      "[utils.py:38 - load_oanda_parquet()] Loaded data has 12741 rows, from 2022-12-19 00:00:00+00:00 to 2022-12-30 21:58:00+00:00.\n"
     ]
    },
    {
     "name": "stdout",
     "output_type": "stream",
     "text": [
      "STRATEGY START: value = 1000, cash = 1000.\n",
      "[2022-12-22 13:11:00] SELL MKT ORDER TRIGGERED.\n",
      "sl = 1.0647350000000002, close = 1.063325, tp = 1.061915\n"
     ]
    },
    {
     "ename": "TypeError",
     "evalue": "unsupported operand type(s) for *: 'int' and 'dict'",
     "output_type": "error",
     "traceback": [
      "\u001b[1;31m---------------------------------------------------------------------------\u001b[0m",
      "\u001b[1;31mTypeError\u001b[0m                                 Traceback (most recent call last)",
      "Cell \u001b[1;32mIn[17], line 33\u001b[0m\n\u001b[0;32m     30\u001b[0m cerebro\u001b[39m.\u001b[39maddanalyzer(bt\u001b[39m.\u001b[39manalyzers\u001b[39m.\u001b[39mDrawDown, _name\u001b[39m=\u001b[39m\u001b[39m'\u001b[39m\u001b[39mDrawDown\u001b[39m\u001b[39m'\u001b[39m)\n\u001b[0;32m     31\u001b[0m cerebro\u001b[39m.\u001b[39maddanalyzer(bt\u001b[39m.\u001b[39manalyzers\u001b[39m.\u001b[39mTradeAnalyzer, _name\u001b[39m=\u001b[39m\u001b[39m'\u001b[39m\u001b[39mTrades\u001b[39m\u001b[39m'\u001b[39m)\n\u001b[1;32m---> 33\u001b[0m results \u001b[39m=\u001b[39m cerebro\u001b[39m.\u001b[39;49mrun()\n\u001b[0;32m     34\u001b[0m result \u001b[39m=\u001b[39m results[\u001b[39m0\u001b[39m]\n",
      "File \u001b[1;32md:\\anaconda3\\envs\\backtrader-py38\\lib\\site-packages\\backtrader\\cerebro.py:1127\u001b[0m, in \u001b[0;36mCerebro.run\u001b[1;34m(self, **kwargs)\u001b[0m\n\u001b[0;32m   1123\u001b[0m \u001b[39mif\u001b[39;00m \u001b[39mnot\u001b[39;00m \u001b[39mself\u001b[39m\u001b[39m.\u001b[39m_dooptimize \u001b[39mor\u001b[39;00m \u001b[39mself\u001b[39m\u001b[39m.\u001b[39mp\u001b[39m.\u001b[39mmaxcpus \u001b[39m==\u001b[39m \u001b[39m1\u001b[39m:\n\u001b[0;32m   1124\u001b[0m     \u001b[39m# If no optimmization is wished ... or 1 core is to be used\u001b[39;00m\n\u001b[0;32m   1125\u001b[0m     \u001b[39m# let's skip process \"spawning\"\u001b[39;00m\n\u001b[0;32m   1126\u001b[0m     \u001b[39mfor\u001b[39;00m iterstrat \u001b[39min\u001b[39;00m iterstrats:\n\u001b[1;32m-> 1127\u001b[0m         runstrat \u001b[39m=\u001b[39m \u001b[39mself\u001b[39;49m\u001b[39m.\u001b[39;49mrunstrategies(iterstrat)\n\u001b[0;32m   1128\u001b[0m         \u001b[39mself\u001b[39m\u001b[39m.\u001b[39mrunstrats\u001b[39m.\u001b[39mappend(runstrat)\n\u001b[0;32m   1129\u001b[0m         \u001b[39mif\u001b[39;00m \u001b[39mself\u001b[39m\u001b[39m.\u001b[39m_dooptimize:\n",
      "File \u001b[1;32md:\\anaconda3\\envs\\backtrader-py38\\lib\\site-packages\\backtrader\\cerebro.py:1298\u001b[0m, in \u001b[0;36mCerebro.runstrategies\u001b[1;34m(self, iterstrat, predata)\u001b[0m\n\u001b[0;32m   1296\u001b[0m         \u001b[39mself\u001b[39m\u001b[39m.\u001b[39m_runnext_old(runstrats)\n\u001b[0;32m   1297\u001b[0m     \u001b[39melse\u001b[39;00m:\n\u001b[1;32m-> 1298\u001b[0m         \u001b[39mself\u001b[39;49m\u001b[39m.\u001b[39;49m_runnext(runstrats)\n\u001b[0;32m   1300\u001b[0m \u001b[39mfor\u001b[39;00m strat \u001b[39min\u001b[39;00m runstrats:\n\u001b[0;32m   1301\u001b[0m     strat\u001b[39m.\u001b[39m_stop()\n",
      "File \u001b[1;32md:\\anaconda3\\envs\\backtrader-py38\\lib\\site-packages\\backtrader\\cerebro.py:1623\u001b[0m, in \u001b[0;36mCerebro._runnext\u001b[1;34m(self, runstrats)\u001b[0m\n\u001b[0;32m   1620\u001b[0m             \u001b[39mif\u001b[39;00m \u001b[39mself\u001b[39m\u001b[39m.\u001b[39m_event_stop:  \u001b[39m# stop if requested\u001b[39;00m\n\u001b[0;32m   1621\u001b[0m                 \u001b[39mreturn\u001b[39;00m\n\u001b[1;32m-> 1623\u001b[0m \u001b[39mself\u001b[39;49m\u001b[39m.\u001b[39;49m_brokernotify()\n\u001b[0;32m   1624\u001b[0m \u001b[39mif\u001b[39;00m \u001b[39mself\u001b[39m\u001b[39m.\u001b[39m_event_stop:  \u001b[39m# stop if requested\u001b[39;00m\n\u001b[0;32m   1625\u001b[0m     \u001b[39mreturn\u001b[39;00m\n",
      "File \u001b[1;32md:\\anaconda3\\envs\\backtrader-py38\\lib\\site-packages\\backtrader\\cerebro.py:1360\u001b[0m, in \u001b[0;36mCerebro._brokernotify\u001b[1;34m(self)\u001b[0m\n\u001b[0;32m   1355\u001b[0m \u001b[39mdef\u001b[39;00m \u001b[39m_brokernotify\u001b[39m(\u001b[39mself\u001b[39m):\n\u001b[0;32m   1356\u001b[0m \u001b[39m    \u001b[39m\u001b[39m'''\u001b[39;00m\n\u001b[0;32m   1357\u001b[0m \u001b[39m    Internal method which kicks the broker and delivers any broker\u001b[39;00m\n\u001b[0;32m   1358\u001b[0m \u001b[39m    notification to the strategy\u001b[39;00m\n\u001b[0;32m   1359\u001b[0m \u001b[39m    '''\u001b[39;00m\n\u001b[1;32m-> 1360\u001b[0m     \u001b[39mself\u001b[39;49m\u001b[39m.\u001b[39;49m_broker\u001b[39m.\u001b[39;49mnext()\n\u001b[0;32m   1361\u001b[0m     \u001b[39mwhile\u001b[39;00m \u001b[39mTrue\u001b[39;00m:\n\u001b[0;32m   1362\u001b[0m         order \u001b[39m=\u001b[39m \u001b[39mself\u001b[39m\u001b[39m.\u001b[39m_broker\u001b[39m.\u001b[39mget_notification()\n",
      "File \u001b[1;32md:\\anaconda3\\envs\\backtrader-py38\\lib\\site-packages\\backtrader\\brokers\\bbroker.py:1181\u001b[0m, in \u001b[0;36mBackBroker.next\u001b[1;34m(self)\u001b[0m\n\u001b[0;32m   1178\u001b[0m     \u001b[39mself\u001b[39m\u001b[39m.\u001b[39m_toactivate\u001b[39m.\u001b[39mpopleft()\u001b[39m.\u001b[39mactivate()\n\u001b[0;32m   1180\u001b[0m \u001b[39mif\u001b[39;00m \u001b[39mself\u001b[39m\u001b[39m.\u001b[39mp\u001b[39m.\u001b[39mchecksubmit:\n\u001b[1;32m-> 1181\u001b[0m     \u001b[39mself\u001b[39;49m\u001b[39m.\u001b[39;49mcheck_submitted()\n\u001b[0;32m   1183\u001b[0m \u001b[39m# Discount any cash for positions hold\u001b[39;00m\n\u001b[0;32m   1184\u001b[0m credit \u001b[39m=\u001b[39m \u001b[39m0.0\u001b[39m\n",
      "File \u001b[1;32m<string>:72\u001b[0m, in \u001b[0;36mcheck_submitted\u001b[1;34m(self)\u001b[0m\n",
      "File \u001b[1;32md:\\anaconda3\\envs\\backtrader-py38\\lib\\site-packages\\backtrader\\brokers\\bbroker.py:782\u001b[0m, in \u001b[0;36mBackBroker._execute\u001b[1;34m(self, order, ago, price, cash, position, dtcoc)\u001b[0m\n\u001b[0;32m    778\u001b[0m     opencash \u001b[39m/\u001b[39m\u001b[39m=\u001b[39m comminfo\u001b[39m.\u001b[39mget_leverage()  \u001b[39m# dec cash with level\u001b[39;00m\n\u001b[0;32m    780\u001b[0m cash \u001b[39m-\u001b[39m\u001b[39m=\u001b[39m opencash  \u001b[39m# original behavior\u001b[39;00m\n\u001b[1;32m--> 782\u001b[0m openedcomm \u001b[39m=\u001b[39m cinfocomp\u001b[39m.\u001b[39;49mgetcommission(opened, price)\n\u001b[0;32m    783\u001b[0m cash \u001b[39m-\u001b[39m\u001b[39m=\u001b[39m openedcomm\n\u001b[0;32m    785\u001b[0m \u001b[39mif\u001b[39;00m cash \u001b[39m<\u001b[39m \u001b[39m0.0\u001b[39m:\n\u001b[0;32m    786\u001b[0m     \u001b[39m# execution is not possible - nullify\u001b[39;00m\n",
      "File \u001b[1;32md:\\anaconda3\\envs\\backtrader-py38\\lib\\site-packages\\backtrader\\comminfo.py:242\u001b[0m, in \u001b[0;36mCommInfoBase.getcommission\u001b[1;34m(self, size, price)\u001b[0m\n\u001b[0;32m    239\u001b[0m \u001b[39mdef\u001b[39;00m \u001b[39mgetcommission\u001b[39m(\u001b[39mself\u001b[39m, size, price):\n\u001b[0;32m    240\u001b[0m \u001b[39m    \u001b[39m\u001b[39m'''Calculates the commission of an operation at a given price\u001b[39;00m\n\u001b[0;32m    241\u001b[0m \u001b[39m    '''\u001b[39;00m\n\u001b[1;32m--> 242\u001b[0m     \u001b[39mreturn\u001b[39;00m \u001b[39mself\u001b[39;49m\u001b[39m.\u001b[39;49m_getcommission(size, price, pseudoexec\u001b[39m=\u001b[39;49m\u001b[39mTrue\u001b[39;49;00m)\n",
      "File \u001b[1;32md:\\anaconda3\\envs\\backtrader-py38\\lib\\site-packages\\backtrader\\comminfo.py:235\u001b[0m, in \u001b[0;36mCommInfoBase._getcommission\u001b[1;34m(self, size, price, pseudoexec)\u001b[0m\n\u001b[0;32m    230\u001b[0m \u001b[39m\u001b[39m\u001b[39m'''Calculates the commission of an operation at a given price\u001b[39;00m\n\u001b[0;32m    231\u001b[0m \n\u001b[0;32m    232\u001b[0m \u001b[39mpseudoexec: if True the operation has not yet been executed\u001b[39;00m\n\u001b[0;32m    233\u001b[0m \u001b[39m'''\u001b[39;00m\n\u001b[0;32m    234\u001b[0m \u001b[39mif\u001b[39;00m \u001b[39mself\u001b[39m\u001b[39m.\u001b[39m_commtype \u001b[39m==\u001b[39m \u001b[39mself\u001b[39m\u001b[39m.\u001b[39mCOMM_PERC:\n\u001b[1;32m--> 235\u001b[0m     \u001b[39mreturn\u001b[39;00m \u001b[39mabs\u001b[39;49m(size) \u001b[39m*\u001b[39;49m \u001b[39mself\u001b[39;49m\u001b[39m.\u001b[39;49mp\u001b[39m.\u001b[39;49mcommission \u001b[39m*\u001b[39m price\n\u001b[0;32m    237\u001b[0m \u001b[39mreturn\u001b[39;00m \u001b[39mabs\u001b[39m(size) \u001b[39m*\u001b[39m \u001b[39mself\u001b[39m\u001b[39m.\u001b[39mp\u001b[39m.\u001b[39mcommission\n",
      "\u001b[1;31mTypeError\u001b[0m: unsupported operand type(s) for *: 'int' and 'dict'"
     ]
    }
   ],
   "source": [
    "DATA_FILE = 'oanda_EUR_USD_M1_2022-12-19_2022-12-31.parquet.gz'\n",
    "DATA_NAME = 'EUR_USD_H1'\n",
    "TIMEFRAME = bt.TimeFrame.Minutes\n",
    "COMPRESSION = 60\n",
    "\n",
    "# initialize\n",
    "cerebro = bt.Cerebro()\n",
    "cerebro.broker.setcash(1000)\n",
    "cerebro.broker.setcommission(commission=BROKER.COMMISSION)\n",
    "\n",
    "# add data\n",
    "df = load_oanda_parquet(DATA_FILE)\n",
    "\n",
    "data = bt.feeds.PandasData(\n",
    "    dataname=df,\n",
    "    name=DATA_NAME,\n",
    ")\n",
    "\n",
    "cerebro.replaydata(data, timeframe=TIMEFRAME, compression=COMPRESSION)\n",
    "\n",
    "# add strategy\n",
    "cerebro.addstrategy(MyStrategy)\n",
    "\n",
    "# add sizer\n",
    "cerebro.addsizer(bt.sizers.FixedSize, stake=100)\n",
    "\n",
    "# add analyzers\n",
    "cerebro.addanalyzer(bt.analyzers.Returns, _name='Returns')\n",
    "cerebro.addanalyzer(bt.analyzers.SharpeRatio, _name='SharpeRatio')\n",
    "cerebro.addanalyzer(bt.analyzers.DrawDown, _name='DrawDown')\n",
    "cerebro.addanalyzer(bt.analyzers.TradeAnalyzer, _name='Trades')\n",
    "\n",
    "results = cerebro.run()\n",
    "result = results[0]\n"
   ]
  },
  {
   "cell_type": "code",
   "execution_count": 5,
   "metadata": {},
   "outputs": [
    {
     "name": "stderr",
     "output_type": "stream",
     "text": [
      "[server.py:403 - __init__()] Starting Bokeh server version 2.4.3 (running on Tornado 6.2)\n",
      "[tornado.py:360 - __init__()] User authentication hooks NOT provided (default user enabled)\n"
     ]
    },
    {
     "data": {
      "application/vnd.bokehjs_exec.v0+json": "",
      "text/html": [
       "<script id=\"1595\">\n",
       "  (function() {\n",
       "    const xhr = new XMLHttpRequest()\n",
       "    xhr.responseType = 'blob';\n",
       "    xhr.open('GET', \"http://localhost:62835/autoload.js?bokeh-autoload-element=1595&bokeh-absolute-url=http://localhost:62835&resources=none\", true);\n",
       "    xhr.onload = function (event) {\n",
       "      const script = document.createElement('script');\n",
       "      const src = URL.createObjectURL(event.target.response);\n",
       "      script.src = src;\n",
       "      document.body.appendChild(script);\n",
       "    };\n",
       "    xhr.send();\n",
       "  })();\n",
       "</script>"
      ]
     },
     "metadata": {
      "application/vnd.bokehjs_exec.v0+json": {
       "server_id": "cda28681359748c09c41d149cee2e132"
      }
     },
     "output_type": "display_data"
    },
    {
     "data": {
      "text/plain": [
       "[{0: <backtrader_bokeh.figure.FigurePage at 0x1ce354158b0>}]"
      ]
     },
     "execution_count": 5,
     "metadata": {},
     "output_type": "execute_result"
    },
    {
     "name": "stderr",
     "output_type": "stream",
     "text": [
      "[web.py:2271 - log_request()] 200 GET /autoload.js?bokeh-autoload-element=1595&bokeh-absolute-url=http://localhost:62835&resources=none (::1) 445.16ms\n",
      "[web.py:2271 - log_request()] 101 GET /ws?id=31fc6055-7028-4a9f-aabf-41836537a557&origin=bce4bbf1-101d-44db-883b-e3db4f31e0a2&swVersion=4&extensionId=&platform=electron&vscode-resource-base-authority=vscode-resource.vscode-cdn.net&parentOrigin=vscode-file%3A%2F%2Fvscode-app&purpose=notebookRenderer (::1) 16.53ms\n",
      "[ws.py:132 - open()] WebSocket connection opened\n",
      "[ws.py:213 - _async_open()] ServerConnection created\n"
     ]
    }
   ],
   "source": [
    "bullish_color = '#31a354' # \"green\" \n",
    "bearish_color = '#e6550d' # \"red\"\n",
    "bokeh_plotter = bt.Bokeh(barup=bullish_color, barup_outline=bullish_color, barup_wick=bullish_color, \n",
    "                         bardown=bearish_color, bardown_outline=bearish_color, bardown_wick=bearish_color)\n",
    "cerebro.plot(plotter=bokeh_plotter, iplot=False)"
   ]
  },
  {
   "cell_type": "code",
   "execution_count": null,
   "metadata": {},
   "outputs": [],
   "source": []
  },
  {
   "cell_type": "code",
   "execution_count": null,
   "metadata": {},
   "outputs": [],
   "source": [
    "print('Total Trades:', result.analyzers.Trades.get_analysis()['total'])\n",
    "print('Total Returns:', result.analyzers.Returns.get_analysis()['rtot'])\n",
    "print('Max Drawdown:', result.analyzers.DrawDown.get_analysis()['max']['drawdown'])\n",
    "print('Sharpe Ratio:', result.analyzers.SharpeRatio.get_analysis()['sharperatio'])"
   ]
  },
  {
   "cell_type": "code",
   "execution_count": null,
   "metadata": {},
   "outputs": [],
   "source": [
    "DATA_FILE = 'oanda_EUR_USD_H1_2022-12-19_2022-12-31.parquet.gz'\n",
    "\n",
    "# initialize\n",
    "cerebro = bt.Cerebro()\n",
    "cerebro.broker.setcash(1000)\n",
    "cerebro.broker.setcommission(commission=0.0)\n",
    "\n",
    "# add data\n",
    "df = load_oanda_parquet(DATA_FILE)\n",
    "\n",
    "data = bt.feeds.PandasData(\n",
    "    dataname=df,\n",
    "    name='EUR_USD_H1',\n",
    ")\n",
    "\n",
    "cerebro.adddata(data)\n",
    "\n",
    "# add strategy\n",
    "cerebro.addstrategy(MyStrategy)\n",
    "\n",
    "# add sizer\n",
    "cerebro.addsizer(bt.sizers.FixedSize, stake=100)\n",
    "\n",
    "# add analyzers\n",
    "cerebro.addanalyzer(bt.analyzers.TradeAnalyzer, _name='Trades')\n",
    "cerebro.addanalyzer(bt.analyzers.Returns, _name='Returns')\n",
    "cerebro.addanalyzer(bt.analyzers.DrawDown, _name='DrawDown')\n",
    "cerebro.addanalyzer(bt.analyzers.SharpeRatio, _name='SharpeRatio')\n",
    "\n",
    "results = cerebro.run()\n",
    "result = results[0]\n"
   ]
  }
 ],
 "metadata": {
  "kernelspec": {
   "display_name": "backtrader-py38",
   "language": "python",
   "name": "python3"
  },
  "language_info": {
   "codemirror_mode": {
    "name": "ipython",
    "version": 3
   },
   "file_extension": ".py",
   "mimetype": "text/x-python",
   "name": "python",
   "nbconvert_exporter": "python",
   "pygments_lexer": "ipython3",
   "version": "3.8.16"
  }
 },
 "nbformat": 4,
 "nbformat_minor": 2
}
