{
 "cells": [
  {
   "cell_type": "code",
   "execution_count": 1,
   "metadata": {},
   "outputs": [
    {
     "name": "stdout",
     "output_type": "stream",
     "text": [
      "\n",
      "***************: The token is incorrect, you will not be able to use advanced features, such as: 'logger', 'configer', 'keyboard control' and more... \n",
      "\n",
      "You can purchase Bakctrader_Bokeh on website: https://aui.photos/backtrader-bokeh/purchase/ \n",
      "\n"
     ]
    },
    {
     "data": {
      "text/html": [
       "<div class=\"bk-root\">\n",
       "        <a href=\"https://bokeh.org\" target=\"_blank\" class=\"bk-logo bk-logo-small bk-logo-notebook\"></a>\n",
       "        <span id=\"1002\">Loading BokehJS ...</span>\n",
       "    </div>\n"
      ]
     },
     "metadata": {},
     "output_type": "display_data"
    },
    {
     "data": {
      "application/javascript": "(function(root) {\n  function now() {\n    return new Date();\n  }\n\n  const force = true;\n\n  if (typeof root._bokeh_onload_callbacks === \"undefined\" || force === true) {\n    root._bokeh_onload_callbacks = [];\n    root._bokeh_is_loading = undefined;\n  }\n\nconst JS_MIME_TYPE = 'application/javascript';\n  const HTML_MIME_TYPE = 'text/html';\n  const EXEC_MIME_TYPE = 'application/vnd.bokehjs_exec.v0+json';\n  const CLASS_NAME = 'output_bokeh rendered_html';\n\n  /**\n   * Render data to the DOM node\n   */\n  function render(props, node) {\n    const script = document.createElement(\"script\");\n    node.appendChild(script);\n  }\n\n  /**\n   * Handle when an output is cleared or removed\n   */\n  function handleClearOutput(event, handle) {\n    const cell = handle.cell;\n\n    const id = cell.output_area._bokeh_element_id;\n    const server_id = cell.output_area._bokeh_server_id;\n    // Clean up Bokeh references\n    if (id != null && id in Bokeh.index) {\n      Bokeh.index[id].model.document.clear();\n      delete Bokeh.index[id];\n    }\n\n    if (server_id !== undefined) {\n      // Clean up Bokeh references\n      const cmd_clean = \"from bokeh.io.state import curstate; print(curstate().uuid_to_server['\" + server_id + \"'].get_sessions()[0].document.roots[0]._id)\";\n      cell.notebook.kernel.execute(cmd_clean, {\n        iopub: {\n          output: function(msg) {\n            const id = msg.content.text.trim();\n            if (id in Bokeh.index) {\n              Bokeh.index[id].model.document.clear();\n              delete Bokeh.index[id];\n            }\n          }\n        }\n      });\n      // Destroy server and session\n      const cmd_destroy = \"import bokeh.io.notebook as ion; ion.destroy_server('\" + server_id + \"')\";\n      cell.notebook.kernel.execute(cmd_destroy);\n    }\n  }\n\n  /**\n   * Handle when a new output is added\n   */\n  function handleAddOutput(event, handle) {\n    const output_area = handle.output_area;\n    const output = handle.output;\n\n    // limit handleAddOutput to display_data with EXEC_MIME_TYPE content only\n    if ((output.output_type != \"display_data\") || (!Object.prototype.hasOwnProperty.call(output.data, EXEC_MIME_TYPE))) {\n      return\n    }\n\n    const toinsert = output_area.element.find(\".\" + CLASS_NAME.split(' ')[0]);\n\n    if (output.metadata[EXEC_MIME_TYPE][\"id\"] !== undefined) {\n      toinsert[toinsert.length - 1].firstChild.textContent = output.data[JS_MIME_TYPE];\n      // store reference to embed id on output_area\n      output_area._bokeh_element_id = output.metadata[EXEC_MIME_TYPE][\"id\"];\n    }\n    if (output.metadata[EXEC_MIME_TYPE][\"server_id\"] !== undefined) {\n      const bk_div = document.createElement(\"div\");\n      bk_div.innerHTML = output.data[HTML_MIME_TYPE];\n      const script_attrs = bk_div.children[0].attributes;\n      for (let i = 0; i < script_attrs.length; i++) {\n        toinsert[toinsert.length - 1].firstChild.setAttribute(script_attrs[i].name, script_attrs[i].value);\n        toinsert[toinsert.length - 1].firstChild.textContent = bk_div.children[0].textContent\n      }\n      // store reference to server id on output_area\n      output_area._bokeh_server_id = output.metadata[EXEC_MIME_TYPE][\"server_id\"];\n    }\n  }\n\n  function register_renderer(events, OutputArea) {\n\n    function append_mime(data, metadata, element) {\n      // create a DOM node to render to\n      const toinsert = this.create_output_subarea(\n        metadata,\n        CLASS_NAME,\n        EXEC_MIME_TYPE\n      );\n      this.keyboard_manager.register_events(toinsert);\n      // Render to node\n      const props = {data: data, metadata: metadata[EXEC_MIME_TYPE]};\n      render(props, toinsert[toinsert.length - 1]);\n      element.append(toinsert);\n      return toinsert\n    }\n\n    /* Handle when an output is cleared or removed */\n    events.on('clear_output.CodeCell', handleClearOutput);\n    events.on('delete.Cell', handleClearOutput);\n\n    /* Handle when a new output is added */\n    events.on('output_added.OutputArea', handleAddOutput);\n\n    /**\n     * Register the mime type and append_mime function with output_area\n     */\n    OutputArea.prototype.register_mime_type(EXEC_MIME_TYPE, append_mime, {\n      /* Is output safe? */\n      safe: true,\n      /* Index of renderer in `output_area.display_order` */\n      index: 0\n    });\n  }\n\n  // register the mime type if in Jupyter Notebook environment and previously unregistered\n  if (root.Jupyter !== undefined) {\n    const events = require('base/js/events');\n    const OutputArea = require('notebook/js/outputarea').OutputArea;\n\n    if (OutputArea.prototype.mime_types().indexOf(EXEC_MIME_TYPE) == -1) {\n      register_renderer(events, OutputArea);\n    }\n  }\n  if (typeof (root._bokeh_timeout) === \"undefined\" || force === true) {\n    root._bokeh_timeout = Date.now() + 5000;\n    root._bokeh_failed_load = false;\n  }\n\n  const NB_LOAD_WARNING = {'data': {'text/html':\n     \"<div style='background-color: #fdd'>\\n\"+\n     \"<p>\\n\"+\n     \"BokehJS does not appear to have successfully loaded. If loading BokehJS from CDN, this \\n\"+\n     \"may be due to a slow or bad network connection. Possible fixes:\\n\"+\n     \"</p>\\n\"+\n     \"<ul>\\n\"+\n     \"<li>re-rerun `output_notebook()` to attempt to load from CDN again, or</li>\\n\"+\n     \"<li>use INLINE resources instead, as so:</li>\\n\"+\n     \"</ul>\\n\"+\n     \"<code>\\n\"+\n     \"from bokeh.resources import INLINE\\n\"+\n     \"output_notebook(resources=INLINE)\\n\"+\n     \"</code>\\n\"+\n     \"</div>\"}};\n\n  function display_loaded() {\n    const el = document.getElementById(\"1002\");\n    if (el != null) {\n      el.textContent = \"BokehJS is loading...\";\n    }\n    if (root.Bokeh !== undefined) {\n      if (el != null) {\n        el.textContent = \"BokehJS \" + root.Bokeh.version + \" successfully loaded.\";\n      }\n    } else if (Date.now() < root._bokeh_timeout) {\n      setTimeout(display_loaded, 100)\n    }\n  }\n\n  function run_callbacks() {\n    try {\n      root._bokeh_onload_callbacks.forEach(function(callback) {\n        if (callback != null)\n          callback();\n      });\n    } finally {\n      delete root._bokeh_onload_callbacks\n    }\n    console.debug(\"Bokeh: all callbacks have finished\");\n  }\n\n  function load_libs(css_urls, js_urls, callback) {\n    if (css_urls == null) css_urls = [];\n    if (js_urls == null) js_urls = [];\n\n    root._bokeh_onload_callbacks.push(callback);\n    if (root._bokeh_is_loading > 0) {\n      console.debug(\"Bokeh: BokehJS is being loaded, scheduling callback at\", now());\n      return null;\n    }\n    if (js_urls == null || js_urls.length === 0) {\n      run_callbacks();\n      return null;\n    }\n    console.debug(\"Bokeh: BokehJS not loaded, scheduling load and callback at\", now());\n    root._bokeh_is_loading = css_urls.length + js_urls.length;\n\n    function on_load() {\n      root._bokeh_is_loading--;\n      if (root._bokeh_is_loading === 0) {\n        console.debug(\"Bokeh: all BokehJS libraries/stylesheets loaded\");\n        run_callbacks()\n      }\n    }\n\n    function on_error(url) {\n      console.error(\"failed to load \" + url);\n    }\n\n    for (let i = 0; i < css_urls.length; i++) {\n      const url = css_urls[i];\n      const element = document.createElement(\"link\");\n      element.onload = on_load;\n      element.onerror = on_error.bind(null, url);\n      element.rel = \"stylesheet\";\n      element.type = \"text/css\";\n      element.href = url;\n      console.debug(\"Bokeh: injecting link tag for BokehJS stylesheet: \", url);\n      document.body.appendChild(element);\n    }\n\n    for (let i = 0; i < js_urls.length; i++) {\n      const url = js_urls[i];\n      const element = document.createElement('script');\n      element.onload = on_load;\n      element.onerror = on_error.bind(null, url);\n      element.async = false;\n      element.src = url;\n      console.debug(\"Bokeh: injecting script tag for BokehJS library: \", url);\n      document.head.appendChild(element);\n    }\n  };\n\n  function inject_raw_css(css) {\n    const element = document.createElement(\"style\");\n    element.appendChild(document.createTextNode(css));\n    document.body.appendChild(element);\n  }\n\n  const js_urls = [\"https://cdn.bokeh.org/bokeh/release/bokeh-2.4.3.min.js\", \"https://cdn.bokeh.org/bokeh/release/bokeh-gl-2.4.3.min.js\", \"https://cdn.bokeh.org/bokeh/release/bokeh-widgets-2.4.3.min.js\", \"https://cdn.bokeh.org/bokeh/release/bokeh-tables-2.4.3.min.js\", \"https://cdn.bokeh.org/bokeh/release/bokeh-mathjax-2.4.3.min.js\"];\n  const css_urls = [];\n\n  const inline_js = [    function(Bokeh) {\n      Bokeh.set_log_level(\"info\");\n    },\nfunction(Bokeh) {\n    }\n  ];\n\n  function run_inline_js() {\n    if (root.Bokeh !== undefined || force === true) {\n          for (let i = 0; i < inline_js.length; i++) {\n      inline_js[i].call(root, root.Bokeh);\n    }\nif (force === true) {\n        display_loaded();\n      }} else if (Date.now() < root._bokeh_timeout) {\n      setTimeout(run_inline_js, 100);\n    } else if (!root._bokeh_failed_load) {\n      console.log(\"Bokeh: BokehJS failed to load within specified timeout.\");\n      root._bokeh_failed_load = true;\n    } else if (force !== true) {\n      const cell = $(document.getElementById(\"1002\")).parents('.cell').data().cell;\n      cell.output_area.append_execute_result(NB_LOAD_WARNING)\n    }\n  }\n\n  if (root._bokeh_is_loading === 0) {\n    console.debug(\"Bokeh: BokehJS loaded, going straight to plotting\");\n    run_inline_js();\n  } else {\n    load_libs(css_urls, js_urls, function() {\n      console.debug(\"Bokeh: BokehJS plotting callback run at\", now());\n      run_inline_js();\n    });\n  }\n}(window));",
      "application/vnd.bokehjs_load.v0+json": ""
     },
     "metadata": {},
     "output_type": "display_data"
    }
   ],
   "source": [
    "import os\n",
    "import pandas as pd\n",
    "from datetime import datetime\n",
    "from src.utils import logger, load_oanda_parquet\n",
    "from backtrader_bokeh import bt\n",
    "\n",
    "os.environ[\"BOKEH_ALLOW_WS_ORIGIN\"] = '0lj9hh483va927cadklatiu5affjj5cn3b349he4cl71d36qc4p6'\n",
    "\n",
    "logger.setLevel(10) # debug\n"
   ]
  },
  {
   "cell_type": "code",
   "execution_count": 2,
   "metadata": {},
   "outputs": [],
   "source": [
    "%load_ext autoreload\n",
    "%autoreload 2"
   ]
  },
  {
   "cell_type": "code",
   "execution_count": 3,
   "metadata": {},
   "outputs": [
    {
     "name": "stderr",
     "output_type": "stream",
     "text": [
      "[utils.py:39 - load_oanda_parquet()] Loaded data has 214 rows, from 2022-12-19 00:00:00+00:00 to 2022-12-30 21:00:00+00:00.\n"
     ]
    }
   ],
   "source": [
    "DATA_FILE = 'oanda_EUR_USD_H1_2022-12-19_2022-12-31.parquet.gz'\n",
    "\n",
    "df = load_oanda_parquet(DATA_FILE)\n",
    "\n",
    "data = bt.feeds.PandasData(\n",
    "    dataname=df,\n",
    "    name='EUR_USD_H1',\n",
    ")\n"
   ]
  },
  {
   "attachments": {},
   "cell_type": "markdown",
   "metadata": {},
   "source": [
    "### Strategy\n",
    "\n",
    "Ref: https://www.youtube.com/watch?v=fT4jb-I5zYc&t=8s\n",
    "\n",
    "Long Signal:\n",
    "1. NMACD cross over\n",
    "2. RSI cross over\n",
    "3. At the bar of RSI cross over, the clse price is above SMA"
   ]
  },
  {
   "cell_type": "code",
   "execution_count": 4,
   "metadata": {},
   "outputs": [],
   "source": [
    "class MyStrategy(bt.Strategy):\n",
    "    params = (\n",
    "        ('macd_fast_period', 13),\n",
    "        ('macd_slow_period', 21),\n",
    "        ('macd_signal_period', 9), # signal / trigger\n",
    "        ('macd_normalize_period', 50),\n",
    "        ('rsi_period', 21),\n",
    "        ('rsi_ma_period', 55),\n",
    "        ('ma_period', 13),\n",
    "        ('atr_period', 100),\n",
    "    )\n",
    "\n",
    "    def __init__(self):\n",
    "\n",
    "        # indicators\n",
    "        self.sma = bt.indicators.SimpleMovingAverage(period=self.params.ma_period)\n",
    "\n",
    "        self.macd = bt.indicators.MACD(\n",
    "            period_me1=self.params.macd_fast_period,\n",
    "            period_me2=self.params.macd_slow_period,\n",
    "            period_signal=self.params.macd_signal_period\n",
    "            )\n",
    "        self.macd_crossover = bt.indicators.CrossOver(self.macd.macd, self.macd.signal, plot=False) # 0: no cross-over | 1: cross-up | -1 : cross-down\n",
    "        # self.macd_norm = bt.indicators.NormalizedMovingAverage(self.macd.histo, period=self.params.macd_normalize_period)\n",
    "\n",
    "        self.rsi = bt.indicators.RSI(period=self.params.rsi_period)\n",
    "        self.rsi_ma = bt.indicators.SimpleMovingAverage(self.rsi, period=self.params.rsi_ma_period)\n",
    "        self.rsi_ma.plotinfo.plotmaster = self.rsi\n",
    "        self.rsi_crossover = bt.indicators.CrossOver(self.rsi, self.rsi_ma, plot=False) # 0: no cross-over | 1: cross-up | -1 : cross-down\n",
    "\n",
    "        self.atr = bt.indicators.AverageTrueRange(period=self.params.atr_period)\n",
    "\n",
    "        # signals\n",
    "        self.sig_macd_cross = 0 # 0: no signal | 1: cross above | -1: cross below\n",
    "        self.signal = 0 # 0: no signal | 1: long | -1: short\n",
    "\n",
    "        self.order = None\n",
    "        self.buyprice = None\n",
    "        self.buycomm = None\n",
    "\n",
    "    def update_signal(self):\n",
    "        if self.macd_crossover[0] in (-1, 1):\n",
    "            self.sig_macd_cross = self.macd_crossover[0]\n",
    "        \n",
    "        if self.sig_macd_cross==1:\n",
    "            if (self.rsi_crossover[0]==1) & (self.data.close[0] > self.sma[0]):\n",
    "                self.signal = 1\n",
    "            else:\n",
    "                self.signal = 0\n",
    "\n",
    "        if self.sig_macd_cross==-1:\n",
    "            if (self.rsi_crossover[0]==-1) & (self.data.close[0] < self.sma[0]):\n",
    "                self.signal = -1\n",
    "            else:\n",
    "                self.signal = 0\n",
    "\n",
    "    def next(self):\n",
    "        #### trouble shooting ####\n",
    "        #global g1\n",
    "        #g1 = self.rsi\n",
    "        #self.log(f\"macd_crossover = {self.macd_crossover[0]}\")\n",
    "        ####\n",
    "\n",
    "        # if there is a pending order, do not send a 2nd one\n",
    "        if self.order:\n",
    "            return\n",
    "    \n",
    "        # update signal\n",
    "        self.update_signal()\n",
    "\n",
    "        if self.signal != 0:\n",
    "            self.log({f'signal = {self.signal}'})\n",
    "\n",
    "        # apply signal if not in position\n",
    "        if not self.position:\n",
    "            if self.data.close[0] > self.sma[0]:\n",
    "                self.log(f\"BUY CREATE, {self.data.close[0]:.6f}\")\n",
    "                self.order = self.buy()\n",
    "        \n",
    "        else:\n",
    "            if self.data.close[0] < self.sma[0]:\n",
    "                self.log(f\"SELL CREATE, {self.data.close[0]:.6f}\")\n",
    "                self.order = self.sell()\n",
    "\n",
    "    def notify_order(self, order: bt.order.Order):\n",
    "        if order.status in [order.Submitted, order.Accepted]:\n",
    "            return\n",
    "        \n",
    "        if order.status in [order.Completed]:\n",
    "            if order.isbuy():\n",
    "                self.log_order(order)\n",
    "                self.buyprice = order.executed.price\n",
    "                self.buycomm = order.executed.comm\n",
    "            elif order.issell():\n",
    "                self.log_order(order)\n",
    "            \n",
    "            self.bar_executed = len(self)\n",
    "\n",
    "        elif order.status in [order.Canceled, order.Margin, order.Rejected]:\n",
    "            self.log(\"Order Canceled/Margin/Rejected\")\n",
    "        \n",
    "        # Write down: no pending order\n",
    "        self.order = None\n",
    "\n",
    "    def notify_trade(self, trade: bt.trade.Trade):\n",
    "        if not trade.isclosed:\n",
    "            return\n",
    "        self.log(f\"OPERATION PROFIT, Gross {trade.pnl:.2f}, Net {trade.pnlcomm:.2f}\")\n",
    "\n",
    "    def log(self, txt):\n",
    "        dt = self.data.datetime.datetime(0)\n",
    "        print(f\"{dt.strftime('%Y-%m-%d %H:%M:%S')}, {txt}\")\n",
    "    \n",
    "    def log_order(self, order: bt.order.Order):\n",
    "        direction = 'BUY' if order.isbuy() else 'SELL'\n",
    "        self.log(f\"{direction} EXECUTED, Size: {order.executed.size}, Price: {order.executed.price:.2f}, Cost: {order.executed.value}, Comm: {order.executed.comm:.2f}\")\n",
    "\n"
   ]
  },
  {
   "cell_type": "code",
   "execution_count": 5,
   "metadata": {},
   "outputs": [
    {
     "name": "stdout",
     "output_type": "stream",
     "text": [
      "Starting Portfolio Value: 1000.00\n",
      "2022-12-23 04:00:00, BUY CREATE, 1.060580\n",
      "2022-12-23 05:00:00, BUY EXECUTED, Size: 10, Price: 1.06, Cost: 10.606, Comm: 0.00\n",
      "2022-12-23 13:00:00, SELL CREATE, 1.060815\n",
      "2022-12-23 14:00:00, SELL EXECUTED, Size: -10, Price: 1.06, Cost: 10.606, Comm: 0.00\n",
      "2022-12-23 14:00:00, OPERATION PROFIT, Gross 0.00, Net 0.00\n",
      "2022-12-23 15:00:00, BUY CREATE, 1.061375\n",
      "2022-12-23 16:00:00, BUY EXECUTED, Size: 10, Price: 1.06, Cost: 10.6137, Comm: 0.00\n",
      "2022-12-23 18:00:00, SELL CREATE, 1.060955\n",
      "2022-12-23 19:00:00, SELL EXECUTED, Size: -10, Price: 1.06, Cost: 10.6137, Comm: 0.00\n",
      "2022-12-23 19:00:00, OPERATION PROFIT, Gross -0.00, Net -0.00\n",
      "2022-12-23 19:00:00, BUY CREATE, 1.062065\n",
      "2022-12-23 20:00:00, BUY EXECUTED, Size: 10, Price: 1.06, Cost: 10.620500000000002, Comm: 0.00\n",
      "2022-12-27 12:00:00, {'signal = -1'}\n",
      "2022-12-27 12:00:00, SELL CREATE, 1.063530\n",
      "2022-12-27 13:00:00, SELL EXECUTED, Size: -10, Price: 1.06, Cost: 10.620500000000002, Comm: 0.00\n",
      "2022-12-27 13:00:00, OPERATION PROFIT, Gross 0.02, Net 0.02\n",
      "2022-12-27 15:00:00, BUY CREATE, 1.064990\n",
      "2022-12-27 16:00:00, BUY EXECUTED, Size: 10, Price: 1.06, Cost: 10.6497, Comm: 0.00\n",
      "2022-12-27 17:00:00, {'signal = -1'}\n",
      "2022-12-27 17:00:00, SELL CREATE, 1.063755\n",
      "2022-12-27 18:00:00, SELL EXECUTED, Size: -10, Price: 1.06, Cost: 10.6497, Comm: 0.00\n",
      "2022-12-27 18:00:00, OPERATION PROFIT, Gross -0.01, Net -0.01\n",
      "2022-12-27 18:00:00, BUY CREATE, 1.064875\n",
      "2022-12-27 19:00:00, BUY EXECUTED, Size: 10, Price: 1.06, Cost: 10.6487, Comm: 0.00\n",
      "2022-12-27 19:00:00, SELL CREATE, 1.064160\n",
      "2022-12-27 20:00:00, SELL EXECUTED, Size: -10, Price: 1.06, Cost: 10.6487, Comm: 0.00\n",
      "2022-12-27 20:00:00, OPERATION PROFIT, Gross -0.01, Net -0.01\n",
      "2022-12-27 21:00:00, {'signal = -1'}\n",
      "2022-12-27 23:00:00, {'signal = -1'}\n",
      "2022-12-28 01:00:00, BUY CREATE, 1.064220\n",
      "2022-12-28 02:00:00, BUY EXECUTED, Size: 10, Price: 1.06, Cost: 10.642200000000003, Comm: 0.00\n",
      "2022-12-28 02:00:00, SELL CREATE, 1.063670\n",
      "2022-12-28 03:00:00, SELL EXECUTED, Size: -10, Price: 1.06, Cost: 10.642200000000003, Comm: 0.00\n",
      "2022-12-28 03:00:00, OPERATION PROFIT, Gross -0.01, Net -0.01\n",
      "2022-12-28 04:00:00, BUY CREATE, 1.064175\n",
      "2022-12-28 05:00:00, BUY EXECUTED, Size: 10, Price: 1.06, Cost: 10.641699999999998, Comm: 0.00\n",
      "2022-12-28 08:00:00, SELL CREATE, 1.063605\n",
      "2022-12-28 09:00:00, SELL EXECUTED, Size: -10, Price: 1.06, Cost: 10.641699999999998, Comm: 0.00\n",
      "2022-12-28 09:00:00, OPERATION PROFIT, Gross -0.01, Net -0.01\n",
      "2022-12-28 11:00:00, BUY CREATE, 1.064660\n",
      "2022-12-28 12:00:00, BUY EXECUTED, Size: 10, Price: 1.06, Cost: 10.6467, Comm: 0.00\n",
      "2022-12-28 14:00:00, {'signal = 1'}\n",
      "2022-12-28 15:00:00, {'signal = -1'}\n",
      "2022-12-28 15:00:00, SELL CREATE, 1.061925\n",
      "2022-12-28 16:00:00, SELL EXECUTED, Size: -10, Price: 1.06, Cost: 10.6467, Comm: 0.00\n",
      "2022-12-28 16:00:00, OPERATION PROFIT, Gross -0.03, Net -0.03\n",
      "2022-12-28 23:00:00, BUY CREATE, 1.062895\n",
      "2022-12-29 00:00:00, BUY EXECUTED, Size: 10, Price: 1.06, Cost: 10.6287, Comm: 0.00\n",
      "2022-12-29 06:00:00, SELL CREATE, 1.061415\n",
      "2022-12-29 07:00:00, SELL EXECUTED, Size: -10, Price: 1.06, Cost: 10.6287, Comm: 0.00\n",
      "2022-12-29 07:00:00, OPERATION PROFIT, Gross -0.02, Net -0.02\n",
      "2022-12-29 07:00:00, BUY CREATE, 1.062345\n",
      "2022-12-29 08:00:00, BUY EXECUTED, Size: 10, Price: 1.06, Cost: 10.62395, Comm: 0.00\n",
      "2022-12-29 09:00:00, {'signal = 1'}\n",
      "2022-12-29 23:00:00, SELL CREATE, 1.066045\n",
      "2022-12-30 00:00:00, SELL EXECUTED, Size: -10, Price: 1.07, Cost: 10.62395, Comm: 0.00\n",
      "2022-12-30 00:00:00, OPERATION PROFIT, Gross 0.04, Net 0.04\n",
      "2022-12-30 00:00:00, BUY CREATE, 1.066830\n",
      "2022-12-30 01:00:00, BUY EXECUTED, Size: 10, Price: 1.07, Cost: 10.668199999999999, Comm: 0.00\n",
      "2022-12-30 01:00:00, SELL CREATE, 1.066055\n",
      "2022-12-30 02:00:00, SELL EXECUTED, Size: -10, Price: 1.07, Cost: 10.668199999999999, Comm: 0.00\n",
      "2022-12-30 02:00:00, OPERATION PROFIT, Gross -0.01, Net -0.01\n",
      "2022-12-30 05:00:00, {'signal = -1'}\n",
      "2022-12-30 08:00:00, BUY CREATE, 1.067125\n",
      "2022-12-30 09:00:00, BUY EXECUTED, Size: 10, Price: 1.07, Cost: 10.6711, Comm: 0.00\n",
      "2022-12-30 09:00:00, {'signal = -1'}\n",
      "2022-12-30 09:00:00, SELL CREATE, 1.065480\n",
      "2022-12-30 10:00:00, SELL EXECUTED, Size: -10, Price: 1.07, Cost: 10.6711, Comm: 0.00\n",
      "2022-12-30 10:00:00, OPERATION PROFIT, Gross -0.02, Net -0.02\n",
      "2022-12-30 10:00:00, BUY CREATE, 1.066975\n",
      "2022-12-30 11:00:00, BUY EXECUTED, Size: 10, Price: 1.07, Cost: 10.669699999999999, Comm: 0.00\n",
      "Final Portfolio Value: 999.99\n"
     ]
    }
   ],
   "source": [
    "cerebro = bt.Cerebro()\n",
    "\n",
    "cerebro.adddata(data)\n",
    "\n",
    "cerebro.addstrategy(MyStrategy)\n",
    "\n",
    "cerebro.broker.setcash(1000)\n",
    "print('Starting Portfolio Value: %.2f' % cerebro.broker.getvalue())\n",
    "\n",
    "cerebro.addsizer(bt.sizers.FixedSize, stake=10)\n",
    "\n",
    "cerebro.broker.setcommission(commission=0.0)\n",
    "\n",
    "cerebro.run()\n",
    "\n",
    "print('Final Portfolio Value: %.2f' % cerebro.broker.getvalue())\n"
   ]
  },
  {
   "cell_type": "code",
   "execution_count": null,
   "metadata": {},
   "outputs": [
    {
     "name": "stderr",
     "output_type": "stream",
     "text": [
      "[server.py:403 - __init__()] Starting Bokeh server version 2.4.3 (running on Tornado 6.2)\n",
      "[tornado.py:360 - __init__()] User authentication hooks NOT provided (default user enabled)\n"
     ]
    },
    {
     "data": {
      "application/vnd.bokehjs_exec.v0+json": "",
      "text/html": [
       "<script id=\"1595\">\n",
       "  (function() {\n",
       "    const xhr = new XMLHttpRequest()\n",
       "    xhr.responseType = 'blob';\n",
       "    xhr.open('GET', \"http://localhost:56390/autoload.js?bokeh-autoload-element=1595&bokeh-absolute-url=http://localhost:56390&resources=none\", true);\n",
       "    xhr.onload = function (event) {\n",
       "      const script = document.createElement('script');\n",
       "      const src = URL.createObjectURL(event.target.response);\n",
       "      script.src = src;\n",
       "      document.body.appendChild(script);\n",
       "    };\n",
       "    xhr.send();\n",
       "  })();\n",
       "</script>"
      ]
     },
     "metadata": {
      "application/vnd.bokehjs_exec.v0+json": {
       "server_id": "e4b5afc19b6c4f1e8fa415c27654c574"
      }
     },
     "output_type": "display_data"
    },
    {
     "data": {
      "text/plain": [
       "[{0: <backtrader_bokeh.figure.FigurePage at 0x1c0e67a0430>}]"
      ]
     },
     "execution_count": 6,
     "metadata": {},
     "output_type": "execute_result"
    },
    {
     "name": "stderr",
     "output_type": "stream",
     "text": [
      "[web.py:2271 - log_request()] 200 GET /autoload.js?bokeh-autoload-element=1595&bokeh-absolute-url=http://localhost:56390&resources=none (::1) 299.12ms\n",
      "[web.py:2271 - log_request()] 101 GET /ws?id=32c330b1-a1f3-49f4-bd39-8e70e940227a&origin=bce4bbf1-101d-44db-883b-e3db4f31e0a2&swVersion=4&extensionId=&platform=electron&vscode-resource-base-authority=vscode-resource.vscode-cdn.net&parentOrigin=vscode-file%3A%2F%2Fvscode-app&purpose=notebookRenderer (::1) 17.00ms\n",
      "[ws.py:132 - open()] WebSocket connection opened\n",
      "[ws.py:213 - _async_open()] ServerConnection created\n"
     ]
    }
   ],
   "source": [
    "plot = bt.Bokeh()\n",
    "cerebro.plot(plot, iplot=False)\n"
   ]
  },
  {
   "cell_type": "code",
   "execution_count": null,
   "metadata": {},
   "outputs": [],
   "source": []
  },
  {
   "cell_type": "code",
   "execution_count": null,
   "metadata": {},
   "outputs": [],
   "source": []
  },
  {
   "cell_type": "code",
   "execution_count": null,
   "metadata": {},
   "outputs": [],
   "source": []
  },
  {
   "cell_type": "code",
   "execution_count": null,
   "metadata": {},
   "outputs": [],
   "source": []
  },
  {
   "cell_type": "code",
   "execution_count": null,
   "metadata": {},
   "outputs": [],
   "source": []
  }
 ],
 "metadata": {
  "kernelspec": {
   "display_name": "backtrader-py38",
   "language": "python",
   "name": "python3"
  },
  "language_info": {
   "codemirror_mode": {
    "name": "ipython",
    "version": 3
   },
   "file_extension": ".py",
   "mimetype": "text/x-python",
   "name": "python",
   "nbconvert_exporter": "python",
   "pygments_lexer": "ipython3",
   "version": "3.8.16"
  }
 },
 "nbformat": 4,
 "nbformat_minor": 2
}
