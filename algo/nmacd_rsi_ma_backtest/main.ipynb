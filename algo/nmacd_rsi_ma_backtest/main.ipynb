{
 "cells": [
  {
   "cell_type": "code",
   "execution_count": 1,
   "metadata": {},
   "outputs": [
    {
     "name": "stdout",
     "output_type": "stream",
     "text": [
      "\n",
      "***************: The token is incorrect, you will not be able to use advanced features, such as: 'logger', 'configer', 'keyboard control' and more... \n",
      "\n",
      "You can purchase Bakctrader_Bokeh on website: https://aui.photos/backtrader-bokeh/purchase/ \n",
      "\n"
     ]
    },
    {
     "data": {
      "text/html": [
       "<div class=\"bk-root\">\n",
       "        <a href=\"https://bokeh.org\" target=\"_blank\" class=\"bk-logo bk-logo-small bk-logo-notebook\"></a>\n",
       "        <span id=\"1002\">Loading BokehJS ...</span>\n",
       "    </div>\n"
      ]
     },
     "metadata": {},
     "output_type": "display_data"
    },
    {
     "data": {
      "application/javascript": "(function(root) {\n  function now() {\n    return new Date();\n  }\n\n  const force = true;\n\n  if (typeof root._bokeh_onload_callbacks === \"undefined\" || force === true) {\n    root._bokeh_onload_callbacks = [];\n    root._bokeh_is_loading = undefined;\n  }\n\nconst JS_MIME_TYPE = 'application/javascript';\n  const HTML_MIME_TYPE = 'text/html';\n  const EXEC_MIME_TYPE = 'application/vnd.bokehjs_exec.v0+json';\n  const CLASS_NAME = 'output_bokeh rendered_html';\n\n  /**\n   * Render data to the DOM node\n   */\n  function render(props, node) {\n    const script = document.createElement(\"script\");\n    node.appendChild(script);\n  }\n\n  /**\n   * Handle when an output is cleared or removed\n   */\n  function handleClearOutput(event, handle) {\n    const cell = handle.cell;\n\n    const id = cell.output_area._bokeh_element_id;\n    const server_id = cell.output_area._bokeh_server_id;\n    // Clean up Bokeh references\n    if (id != null && id in Bokeh.index) {\n      Bokeh.index[id].model.document.clear();\n      delete Bokeh.index[id];\n    }\n\n    if (server_id !== undefined) {\n      // Clean up Bokeh references\n      const cmd_clean = \"from bokeh.io.state import curstate; print(curstate().uuid_to_server['\" + server_id + \"'].get_sessions()[0].document.roots[0]._id)\";\n      cell.notebook.kernel.execute(cmd_clean, {\n        iopub: {\n          output: function(msg) {\n            const id = msg.content.text.trim();\n            if (id in Bokeh.index) {\n              Bokeh.index[id].model.document.clear();\n              delete Bokeh.index[id];\n            }\n          }\n        }\n      });\n      // Destroy server and session\n      const cmd_destroy = \"import bokeh.io.notebook as ion; ion.destroy_server('\" + server_id + \"')\";\n      cell.notebook.kernel.execute(cmd_destroy);\n    }\n  }\n\n  /**\n   * Handle when a new output is added\n   */\n  function handleAddOutput(event, handle) {\n    const output_area = handle.output_area;\n    const output = handle.output;\n\n    // limit handleAddOutput to display_data with EXEC_MIME_TYPE content only\n    if ((output.output_type != \"display_data\") || (!Object.prototype.hasOwnProperty.call(output.data, EXEC_MIME_TYPE))) {\n      return\n    }\n\n    const toinsert = output_area.element.find(\".\" + CLASS_NAME.split(' ')[0]);\n\n    if (output.metadata[EXEC_MIME_TYPE][\"id\"] !== undefined) {\n      toinsert[toinsert.length - 1].firstChild.textContent = output.data[JS_MIME_TYPE];\n      // store reference to embed id on output_area\n      output_area._bokeh_element_id = output.metadata[EXEC_MIME_TYPE][\"id\"];\n    }\n    if (output.metadata[EXEC_MIME_TYPE][\"server_id\"] !== undefined) {\n      const bk_div = document.createElement(\"div\");\n      bk_div.innerHTML = output.data[HTML_MIME_TYPE];\n      const script_attrs = bk_div.children[0].attributes;\n      for (let i = 0; i < script_attrs.length; i++) {\n        toinsert[toinsert.length - 1].firstChild.setAttribute(script_attrs[i].name, script_attrs[i].value);\n        toinsert[toinsert.length - 1].firstChild.textContent = bk_div.children[0].textContent\n      }\n      // store reference to server id on output_area\n      output_area._bokeh_server_id = output.metadata[EXEC_MIME_TYPE][\"server_id\"];\n    }\n  }\n\n  function register_renderer(events, OutputArea) {\n\n    function append_mime(data, metadata, element) {\n      // create a DOM node to render to\n      const toinsert = this.create_output_subarea(\n        metadata,\n        CLASS_NAME,\n        EXEC_MIME_TYPE\n      );\n      this.keyboard_manager.register_events(toinsert);\n      // Render to node\n      const props = {data: data, metadata: metadata[EXEC_MIME_TYPE]};\n      render(props, toinsert[toinsert.length - 1]);\n      element.append(toinsert);\n      return toinsert\n    }\n\n    /* Handle when an output is cleared or removed */\n    events.on('clear_output.CodeCell', handleClearOutput);\n    events.on('delete.Cell', handleClearOutput);\n\n    /* Handle when a new output is added */\n    events.on('output_added.OutputArea', handleAddOutput);\n\n    /**\n     * Register the mime type and append_mime function with output_area\n     */\n    OutputArea.prototype.register_mime_type(EXEC_MIME_TYPE, append_mime, {\n      /* Is output safe? */\n      safe: true,\n      /* Index of renderer in `output_area.display_order` */\n      index: 0\n    });\n  }\n\n  // register the mime type if in Jupyter Notebook environment and previously unregistered\n  if (root.Jupyter !== undefined) {\n    const events = require('base/js/events');\n    const OutputArea = require('notebook/js/outputarea').OutputArea;\n\n    if (OutputArea.prototype.mime_types().indexOf(EXEC_MIME_TYPE) == -1) {\n      register_renderer(events, OutputArea);\n    }\n  }\n  if (typeof (root._bokeh_timeout) === \"undefined\" || force === true) {\n    root._bokeh_timeout = Date.now() + 5000;\n    root._bokeh_failed_load = false;\n  }\n\n  const NB_LOAD_WARNING = {'data': {'text/html':\n     \"<div style='background-color: #fdd'>\\n\"+\n     \"<p>\\n\"+\n     \"BokehJS does not appear to have successfully loaded. If loading BokehJS from CDN, this \\n\"+\n     \"may be due to a slow or bad network connection. Possible fixes:\\n\"+\n     \"</p>\\n\"+\n     \"<ul>\\n\"+\n     \"<li>re-rerun `output_notebook()` to attempt to load from CDN again, or</li>\\n\"+\n     \"<li>use INLINE resources instead, as so:</li>\\n\"+\n     \"</ul>\\n\"+\n     \"<code>\\n\"+\n     \"from bokeh.resources import INLINE\\n\"+\n     \"output_notebook(resources=INLINE)\\n\"+\n     \"</code>\\n\"+\n     \"</div>\"}};\n\n  function display_loaded() {\n    const el = document.getElementById(\"1002\");\n    if (el != null) {\n      el.textContent = \"BokehJS is loading...\";\n    }\n    if (root.Bokeh !== undefined) {\n      if (el != null) {\n        el.textContent = \"BokehJS \" + root.Bokeh.version + \" successfully loaded.\";\n      }\n    } else if (Date.now() < root._bokeh_timeout) {\n      setTimeout(display_loaded, 100)\n    }\n  }\n\n  function run_callbacks() {\n    try {\n      root._bokeh_onload_callbacks.forEach(function(callback) {\n        if (callback != null)\n          callback();\n      });\n    } finally {\n      delete root._bokeh_onload_callbacks\n    }\n    console.debug(\"Bokeh: all callbacks have finished\");\n  }\n\n  function load_libs(css_urls, js_urls, callback) {\n    if (css_urls == null) css_urls = [];\n    if (js_urls == null) js_urls = [];\n\n    root._bokeh_onload_callbacks.push(callback);\n    if (root._bokeh_is_loading > 0) {\n      console.debug(\"Bokeh: BokehJS is being loaded, scheduling callback at\", now());\n      return null;\n    }\n    if (js_urls == null || js_urls.length === 0) {\n      run_callbacks();\n      return null;\n    }\n    console.debug(\"Bokeh: BokehJS not loaded, scheduling load and callback at\", now());\n    root._bokeh_is_loading = css_urls.length + js_urls.length;\n\n    function on_load() {\n      root._bokeh_is_loading--;\n      if (root._bokeh_is_loading === 0) {\n        console.debug(\"Bokeh: all BokehJS libraries/stylesheets loaded\");\n        run_callbacks()\n      }\n    }\n\n    function on_error(url) {\n      console.error(\"failed to load \" + url);\n    }\n\n    for (let i = 0; i < css_urls.length; i++) {\n      const url = css_urls[i];\n      const element = document.createElement(\"link\");\n      element.onload = on_load;\n      element.onerror = on_error.bind(null, url);\n      element.rel = \"stylesheet\";\n      element.type = \"text/css\";\n      element.href = url;\n      console.debug(\"Bokeh: injecting link tag for BokehJS stylesheet: \", url);\n      document.body.appendChild(element);\n    }\n\n    for (let i = 0; i < js_urls.length; i++) {\n      const url = js_urls[i];\n      const element = document.createElement('script');\n      element.onload = on_load;\n      element.onerror = on_error.bind(null, url);\n      element.async = false;\n      element.src = url;\n      console.debug(\"Bokeh: injecting script tag for BokehJS library: \", url);\n      document.head.appendChild(element);\n    }\n  };\n\n  function inject_raw_css(css) {\n    const element = document.createElement(\"style\");\n    element.appendChild(document.createTextNode(css));\n    document.body.appendChild(element);\n  }\n\n  const js_urls = [\"https://cdn.bokeh.org/bokeh/release/bokeh-2.4.3.min.js\", \"https://cdn.bokeh.org/bokeh/release/bokeh-gl-2.4.3.min.js\", \"https://cdn.bokeh.org/bokeh/release/bokeh-widgets-2.4.3.min.js\", \"https://cdn.bokeh.org/bokeh/release/bokeh-tables-2.4.3.min.js\", \"https://cdn.bokeh.org/bokeh/release/bokeh-mathjax-2.4.3.min.js\"];\n  const css_urls = [];\n\n  const inline_js = [    function(Bokeh) {\n      Bokeh.set_log_level(\"info\");\n    },\nfunction(Bokeh) {\n    }\n  ];\n\n  function run_inline_js() {\n    if (root.Bokeh !== undefined || force === true) {\n          for (let i = 0; i < inline_js.length; i++) {\n      inline_js[i].call(root, root.Bokeh);\n    }\nif (force === true) {\n        display_loaded();\n      }} else if (Date.now() < root._bokeh_timeout) {\n      setTimeout(run_inline_js, 100);\n    } else if (!root._bokeh_failed_load) {\n      console.log(\"Bokeh: BokehJS failed to load within specified timeout.\");\n      root._bokeh_failed_load = true;\n    } else if (force !== true) {\n      const cell = $(document.getElementById(\"1002\")).parents('.cell').data().cell;\n      cell.output_area.append_execute_result(NB_LOAD_WARNING)\n    }\n  }\n\n  if (root._bokeh_is_loading === 0) {\n    console.debug(\"Bokeh: BokehJS loaded, going straight to plotting\");\n    run_inline_js();\n  } else {\n    load_libs(css_urls, js_urls, function() {\n      console.debug(\"Bokeh: BokehJS plotting callback run at\", now());\n      run_inline_js();\n    });\n  }\n}(window));",
      "application/vnd.bokehjs_load.v0+json": ""
     },
     "metadata": {},
     "output_type": "display_data"
    }
   ],
   "source": [
    "import os\n",
    "import numpy as np\n",
    "import pandas as pd\n",
    "from backtrader_bokeh import bt\n",
    "\n",
    "from src.defs import BROKER\n",
    "from src.utils import logger, load_oanda_parquet\n",
    "\n",
    "os.environ[\"BOKEH_ALLOW_WS_ORIGIN\"] = '0lj9hh483va927cadklatiu5affjj5cn3b349he4cl71d36qc4p6'\n",
    "\n",
    "logger.setLevel(10) # debug\n"
   ]
  },
  {
   "cell_type": "code",
   "execution_count": 2,
   "metadata": {},
   "outputs": [],
   "source": [
    "%load_ext autoreload\n",
    "%autoreload 2"
   ]
  },
  {
   "cell_type": "code",
   "execution_count": 8,
   "metadata": {},
   "outputs": [
    {
     "name": "stderr",
     "output_type": "stream",
     "text": [
      "[utils.py:38 - load_oanda_parquet()] Loaded data has 12741 rows, from 2022-12-19 00:00:00+00:00 to 2022-12-30 21:58:00+00:00.\n"
     ]
    },
    {
     "name": "stdout",
     "output_type": "stream",
     "text": [
      "STRATEGY START: value = 1000, cash = 1000.\n",
      "[2022-12-22 13:11:00] SELL MKT ORDER TRIGGERED.\n",
      "[2022-12-22 13:12:00] SELL MKT ORDER ACCEPTED: price = 1.063325, size = 3603.0, margin = None.\n",
      "[2022-12-22 13:12:00] BUY STOP ORDER ACCEPTED: price = 1.0661, size = 3603.0, margin = None.\n",
      "[2022-12-22 13:12:00] BUY LMT ORDER ACCEPTED: price = 1.06055, size = 3603.0, margin = None.\n",
      "[2022-12-22 13:12:00] SELL MKT ORDER EXECUTED: order_price = 1.06333, execute_price = 1.06334, slippage = -0.1 %%, size = 3603.0, value = 3831.21402, margin = 1.0, commission = 0.28734.\n",
      "[2022-12-22 13:36:00] BUY LMT ORDER EXECUTED: order_price = 1.06055, execute_price = 1.06055, slippage = 0.0 %%, size = 3603.0, value = 3821.16165, margin = 1.0, commission = 0.28659.\n",
      "[2022-12-22 13:36:00] BUY STOP ORDER CANCELLED.\n",
      "[2022-12-22 13:36:00] TRADE 25 CLOSED: gross_pnl = 10.05237, net_pnl = 9.47844.\n",
      "[2022-12-23 02:34:00] BUY MKT ORDER TRIGGERED.\n",
      "[2022-12-23 02:35:00] BUY MKT ORDER ACCEPTED: price = 1.0612, size = 2713.0, margin = None.\n",
      "[2022-12-23 02:35:00] SELL STOP ORDER ACCEPTED: price = 1.05748, size = 2713.0, margin = None.\n",
      "[2022-12-23 02:35:00] SELL LMT ORDER ACCEPTED: price = 1.06492, size = 2713.0, margin = None.\n",
      "[2022-12-23 02:35:00] BUY MKT ORDER EXECUTED: order_price = 1.0612, execute_price = 1.06121, slippage = 0.0 %%, size = 2713.0, value = 2879.04917, margin = 1.0, commission = 0.21593.\n",
      "[2022-12-27 01:08:00] SELL LMT ORDER EXECUTED: order_price = 1.06492, execute_price = 1.06492, slippage = 0.0 %%, size = 2713.0, value = 2889.12796, margin = 1.0, commission = 0.21668.\n",
      "[2022-12-27 01:08:00] SELL STOP ORDER CANCELLED.\n",
      "[2022-12-27 01:08:00] TRADE 26 CLOSED: gross_pnl = 10.07879, net_pnl = 9.64618.\n",
      "[2022-12-27 12:54:00] SELL MKT ORDER TRIGGERED.\n",
      "[2022-12-27 12:55:00] SELL MKT ORDER ACCEPTED: price = 1.06382, size = 3097.0, margin = None.\n",
      "[2022-12-27 12:55:00] BUY STOP ORDER ACCEPTED: price = 1.06711, size = 3097.0, margin = None.\n",
      "[2022-12-27 12:55:00] BUY LMT ORDER ACCEPTED: price = 1.06053, size = 3097.0, margin = None.\n",
      "[2022-12-27 12:55:00] SELL MKT ORDER EXECUTED: order_price = 1.06382, execute_price = 1.06381, slippage = 0.0 %%, size = 3097.0, value = 3294.63505, margin = 1.0, commission = 0.2471.\n",
      "[2022-12-28 14:36:00] BUY STOP ORDER EXECUTED: order_price = 1.06711, execute_price = 1.06711, slippage = 0.0 %%, size = 3097.0, value = 3304.83967, margin = 1.0, commission = 0.24786.\n",
      "[2022-12-28 14:36:00] BUY LMT ORDER CANCELLED.\n",
      "[2022-12-28 14:36:00] TRADE 27 CLOSED: gross_pnl = -10.20462, net_pnl = -10.69958.\n",
      "[2022-12-28 15:25:00] SELL MKT ORDER TRIGGERED.\n",
      "[2022-12-28 15:26:00] SELL MKT ORDER ACCEPTED: price = 1.06426, size = 3010.0, margin = None.\n",
      "[2022-12-28 15:26:00] BUY STOP ORDER ACCEPTED: price = 1.06761, size = 3010.0, margin = None.\n",
      "[2022-12-28 15:26:00] BUY LMT ORDER ACCEPTED: price = 1.06091, size = 3010.0, margin = None.\n",
      "[2022-12-28 15:26:00] SELL MKT ORDER EXECUTED: order_price = 1.06426, execute_price = 1.06427, slippage = -0.0 %%, size = 3010.0, value = 3203.43765, margin = 1.0, commission = 0.24026.\n",
      "[2022-12-28 20:52:00] BUY LMT ORDER EXECUTED: order_price = 1.06091, execute_price = 1.06091, slippage = 0.0 %%, size = 3010.0, value = 3193.3391, margin = 1.0, commission = 0.2395.\n",
      "[2022-12-28 20:52:00] BUY STOP ORDER CANCELLED.\n",
      "[2022-12-28 20:52:00] TRADE 28 CLOSED: gross_pnl = 10.09855, net_pnl = 9.61879.\n",
      "[2022-12-30 05:55:00] SELL MKT ORDER TRIGGERED.\n",
      "[2022-12-30 05:56:00] SELL MKT ORDER ACCEPTED: price = 1.06525, size = 5415.0, margin = None.\n",
      "[2022-12-30 05:56:00] BUY STOP ORDER ACCEPTED: price = 1.06713, size = 5415.0, margin = None.\n",
      "[2022-12-30 05:56:00] BUY LMT ORDER ACCEPTED: price = 1.06337, size = 5415.0, margin = None.\n",
      "[2022-12-30 05:56:00] SELL MKT ORDER EXECUTED: order_price = 1.06525, execute_price = 1.06523, slippage = 0.2 %%, size = 5415.0, value = 5768.22045, margin = 1.0, commission = 0.43262.\n",
      "[2022-12-30 08:46:00] BUY STOP ORDER EXECUTED: order_price = 1.06713, execute_price = 1.06713, slippage = 0.0 %%, size = 5415.0, value = 5778.50895, margin = 1.0, commission = 0.43339.\n",
      "[2022-12-30 08:46:00] BUY LMT ORDER CANCELLED.\n",
      "[2022-12-30 08:46:00] TRADE 29 CLOSED: gross_pnl = -10.2885, net_pnl = -11.1545.\n",
      "[2022-12-30 09:38:00] SELL MKT ORDER TRIGGERED.\n",
      "[2022-12-30 09:39:00] SELL MKT ORDER ACCEPTED: price = 1.06538, size = 4495.0, margin = None.\n",
      "[2022-12-30 09:39:00] BUY STOP ORDER ACCEPTED: price = 1.06762, size = 4495.0, margin = None.\n",
      "[2022-12-30 09:39:00] BUY LMT ORDER ACCEPTED: price = 1.06314, size = 4495.0, margin = None.\n",
      "[2022-12-30 09:39:00] SELL MKT ORDER EXECUTED: order_price = 1.06538, execute_price = 1.0654, slippage = -0.2 %%, size = 4495.0, value = 4788.973, margin = 1.0, commission = 0.35917.\n",
      "[2022-12-30 10:48:00] BUY STOP ORDER EXECUTED: order_price = 1.06762, execute_price = 1.06762, slippage = 0.0 %%, size = 4495.0, value = 4798.9519, margin = 1.0, commission = 0.35992.\n",
      "[2022-12-30 10:48:00] BUY LMT ORDER CANCELLED.\n",
      "[2022-12-30 10:48:00] TRADE 30 CLOSED: gross_pnl = -9.9789, net_pnl = -10.69799.\n",
      "[2022-12-30 13:23:00] SELL MKT ORDER TRIGGERED.\n",
      "[2022-12-30 13:24:00] SELL MKT ORDER ACCEPTED: price = 1.065815, size = 2352.0, margin = None.\n",
      "[2022-12-30 13:24:00] BUY STOP ORDER ACCEPTED: price = 1.07005, size = 2352.0, margin = None.\n",
      "[2022-12-30 13:24:00] BUY LMT ORDER ACCEPTED: price = 1.06158, size = 2352.0, margin = None.\n",
      "[2022-12-30 13:24:00] SELL MKT ORDER EXECUTED: order_price = 1.06581, execute_price = 1.06582, slippage = -0.1 %%, size = 2352.0, value = 2506.8204, margin = 1.0, commission = 0.18801.\n",
      "[2022-12-30 14:39:00] BUY STOP ORDER EXECUTED: order_price = 1.07005, execute_price = 1.07005, slippage = 0.0 %%, size = 2352.0, value = 2516.7576, margin = 1.0, commission = 0.18876.\n",
      "[2022-12-30 14:39:00] BUY LMT ORDER CANCELLED.\n",
      "[2022-12-30 14:39:00] TRADE 31 CLOSED: gross_pnl = -9.9372, net_pnl = -10.31397.\n",
      "[2022-12-30 15:53:00] SELL MKT ORDER TRIGGERED.\n",
      "[2022-12-30 15:54:00] SELL MKT ORDER ACCEPTED: price = 1.0660349999999998, size = 2322.0, margin = None.\n",
      "[2022-12-30 15:54:00] BUY STOP ORDER ACCEPTED: price = 1.07028, size = 2322.0, margin = None.\n",
      "[2022-12-30 15:54:00] BUY LMT ORDER ACCEPTED: price = 1.06179, size = 2322.0, margin = None.\n",
      "[2022-12-30 15:54:00] SELL MKT ORDER EXECUTED: order_price = 1.06603, execute_price = 1.06602, slippage = 0.1 %%, size = 2322.0, value = 2475.29844, margin = 1.0, commission = 0.18565.\n",
      "[2022-12-30 17:01:00] BUY STOP ORDER EXECUTED: order_price = 1.07028, execute_price = 1.07028, slippage = 0.0 %%, size = 2322.0, value = 2485.19016, margin = 1.0, commission = 0.18639.\n",
      "[2022-12-30 17:01:00] BUY LMT ORDER CANCELLED.\n",
      "[2022-12-30 17:01:00] TRADE 32 CLOSED: gross_pnl = -9.89172, net_pnl = -10.26376.\n",
      "[2022-12-30 21:58:00] STRATEGY COMPLETE: value = 975.61362, cash = 975.61362.\n"
     ]
    }
   ],
   "source": [
    "from src.strategy import MyStrategy\n",
    "\n",
    "INSTRUMENT = \"EUR_USD\"\n",
    "DATA_FILE = 'oanda_EUR_USD_M1_2022-12-19_2022-12-31.parquet.gz'\n",
    "DATA_NAME = 'EUR_USD_H1'\n",
    "\n",
    "TIMEFRAME = bt.TimeFrame.Minutes\n",
    "COMPRESSION = 60\n",
    "\n",
    "# initialize\n",
    "cerebro = bt.Cerebro()\n",
    "cerebro.broker.setcash(1000)\n",
    "\n",
    "# set commission and margin\n",
    "cerebro.broker.setcommission(\n",
    "    commission=BROKER.COMMISSION[INSTRUMENT],\n",
    "    commtype=bt.CommInfoBase.COMM_PERC,\n",
    "    percabs=True, # understand commission as 0.XX\n",
    "    leverage=50,\n",
    "    )\n",
    "\n",
    "# add data\n",
    "df = load_oanda_parquet(DATA_FILE)\n",
    "\n",
    "data = bt.feeds.PandasData(\n",
    "    dataname=df,\n",
    "    name=DATA_NAME,\n",
    ")\n",
    "\n",
    "cerebro.replaydata(data, timeframe=TIMEFRAME, compression=COMPRESSION)\n",
    "\n",
    "# add strategy\n",
    "cerebro.addstrategy(MyStrategy)\n",
    "\n",
    "# add analyzers\n",
    "cerebro.addanalyzer(bt.analyzers.Returns, _name='Returns')\n",
    "cerebro.addanalyzer(bt.analyzers.SharpeRatio, _name='SharpeRatio')\n",
    "cerebro.addanalyzer(bt.analyzers.DrawDown, _name='DrawDown')\n",
    "cerebro.addanalyzer(bt.analyzers.TradeAnalyzer, _name='Trades')\n",
    "\n",
    "# add observer\n",
    "cerebro.addobserver(bt.observers.BuySell, barplot=True, bardist=0)\n",
    "\n",
    "# run\n",
    "results = cerebro.run()\n",
    "result = results[0]\n",
    "\n",
    "# save trade log\n",
    "df_trade_log = pd.DataFrame(result.trade_log)\n",
    "df_trade_log.to_csv('__temp_trade_log.csv', index=False)"
   ]
  },
  {
   "cell_type": "code",
   "execution_count": null,
   "metadata": {},
   "outputs": [
    {
     "name": "stderr",
     "output_type": "stream",
     "text": [
      "INFO:bokeh.server.server:Starting Bokeh server version 2.4.3 (running on Tornado 6.2)\n",
      "INFO:bokeh.server.tornado:User authentication hooks NOT provided (default user enabled)\n"
     ]
    },
    {
     "data": {
      "application/vnd.bokehjs_exec.v0+json": "",
      "text/html": [
       "<script id=\"3452\">\n",
       "  (function() {\n",
       "    const xhr = new XMLHttpRequest()\n",
       "    xhr.responseType = 'blob';\n",
       "    xhr.open('GET', \"http://localhost:62046/autoload.js?bokeh-autoload-element=3452&bokeh-absolute-url=http://localhost:62046&resources=none\", true);\n",
       "    xhr.onload = function (event) {\n",
       "      const script = document.createElement('script');\n",
       "      const src = URL.createObjectURL(event.target.response);\n",
       "      script.src = src;\n",
       "      document.body.appendChild(script);\n",
       "    };\n",
       "    xhr.send();\n",
       "  })();\n",
       "</script>"
      ]
     },
     "metadata": {
      "application/vnd.bokehjs_exec.v0+json": {
       "server_id": "38919aa607c04eecba94111a1c0b5e45"
      }
     },
     "output_type": "display_data"
    },
    {
     "data": {
      "text/plain": [
       "[{0: <backtrader_bokeh.figure.FigurePage at 0x17381fba190>}]"
      ]
     },
     "execution_count": 6,
     "metadata": {},
     "output_type": "execute_result"
    },
    {
     "name": "stderr",
     "output_type": "stream",
     "text": [
      "[web.py:2271 - log_request()] 200 GET /autoload.js?bokeh-autoload-element=3452&bokeh-absolute-url=http://localhost:62046&resources=none (::1) 377.16ms\n",
      "[web.py:2271 - log_request()] 101 GET /ws?id=5ad1b171-8162-4fd7-a832-4ad250577627&origin=bce4bbf1-101d-44db-883b-e3db4f31e0a2&swVersion=4&extensionId=&platform=electron&vscode-resource-base-authority=vscode-resource.vscode-cdn.net&parentOrigin=vscode-file%3A%2F%2Fvscode-app&purpose=notebookRenderer (::1) 16.69ms\n",
      "INFO:bokeh.server.views.ws:WebSocket connection opened\n",
      "INFO:bokeh.server.views.ws:ServerConnection created\n"
     ]
    }
   ],
   "source": [
    "bullish_color = '#31a354' # \"green\" \n",
    "bearish_color = '#e6550d' # \"red\"\n",
    "bokeh_plotter = bt.Bokeh(barup=bullish_color, barup_outline=bullish_color, barup_wick=bullish_color, \n",
    "                         bardown=bearish_color, bardown_outline=bearish_color, bardown_wick=bearish_color)\n",
    "cerebro.plot(plotter=bokeh_plotter, iplot=False)"
   ]
  },
  {
   "cell_type": "code",
   "execution_count": null,
   "metadata": {},
   "outputs": [],
   "source": []
  },
  {
   "cell_type": "code",
   "execution_count": null,
   "metadata": {},
   "outputs": [],
   "source": [
    "print('Total Trades:', result.analyzers.Trades.get_analysis()['total'])\n",
    "print('Total Returns:', result.analyzers.Returns.get_analysis()['rtot'])\n",
    "print('Max Drawdown:', result.analyzers.DrawDown.get_analysis()['max']['drawdown'])\n",
    "print('Sharpe Ratio:', result.analyzers.SharpeRatio.get_analysis()['sharperatio'])"
   ]
  }
 ],
 "metadata": {
  "kernelspec": {
   "display_name": "backtrader-py38",
   "language": "python",
   "name": "python3"
  },
  "language_info": {
   "codemirror_mode": {
    "name": "ipython",
    "version": 3
   },
   "file_extension": ".py",
   "mimetype": "text/x-python",
   "name": "python",
   "nbconvert_exporter": "python",
   "pygments_lexer": "ipython3",
   "version": "3.8.16"
  }
 },
 "nbformat": 4,
 "nbformat_minor": 2
}
